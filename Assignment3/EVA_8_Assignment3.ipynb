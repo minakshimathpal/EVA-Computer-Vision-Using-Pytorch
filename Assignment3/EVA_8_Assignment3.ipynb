{
  "nbformat": 4,
  "nbformat_minor": 0,
  "metadata": {
    "colab": {
      "provenance": []
    },
    "kernelspec": {
      "name": "python3",
      "display_name": "Python 3"
    },
    "language_info": {
      "name": "python"
    },
    "accelerator": "GPU",
    "gpuClass": "standard"
  },
  "cells": [
    {
      "cell_type": "code",
      "execution_count": 13,
      "metadata": {
        "id": "L-jkcONH9JZO"
      },
      "outputs": [],
      "source": [
        "import torch \n",
        "import torch.nn as nn\n",
        "import torch.nn.functional as F\n",
        "from torchvision import datasets,transforms # transformations we can perform on our dataset\n",
        "from torch.utils.data import Dataset, DataLoader\n",
        "import torch.optim as optim\n",
        "import numpy as np\n",
        "import matplotlib.pyplot as plt\n",
        "torch.manual_seed(42)\n",
        "\n",
        "device= \"cuda\" if torch.cuda.is_available() else \"cpu\""
      ]
    },
    {
      "cell_type": "markdown",
      "source": [
        "### Get the Data\n",
        "The PyTorch torchvision library provides us with an MNIST dataset, which downloads the data and provides it in a readily-usable format. Let's use the dataset MNIST function to pull the dataset to our local machine, and then wrap it around a DataLoader. We will use torchvision transformations to convert the data into PyTorch tensors and do data normalization. The following code takes care of downloading, wrapping around the DataLoader and normalizing the data:\n",
        "\n",
        "**Steps**\n",
        "1. Initialize transformation\n",
        "2. Load the data from torchvision dataset\n",
        "3. Create a dataloader using the data from above step\n"
      ],
      "metadata": {
        "id": "anMq825w9vvc"
      }
    },
    {
      "cell_type": "code",
      "source": [
        "# # Initialize transformation, datasets, and loaders\n",
        "# Compose is used to Combine several different transformations\n",
        "transformations= transforms.Compose([transforms.ToTensor(),\n",
        "                                     transforms.Normalize((0.1307,),(0.3081,))\n",
        "                                      ])\n",
        "train_set= datasets.MNIST(root=\"./data\",\n",
        "                          train=True,\n",
        "                          transform=transformations,\n",
        "                          download=True)\n",
        "\n",
        "test_set= datasets.MNIST(root=\"./data\",\n",
        "                        train=False,\n",
        "                        transform=transformations,\n",
        "                        download=True)\n",
        "\n",
        "# DataLoader\n",
        "\n",
        "train_loader=torch.utils.data.DataLoader(train_set,batch_size=64,shuffle=True)\n",
        "test_loader= torch.utils.data.DataLoader(test_set,batch_size=64,shuffle=True)"
      ],
      "metadata": {
        "id": "-RxeXOh5-doa"
      },
      "execution_count": 14,
      "outputs": []
    },
    {
      "cell_type": "markdown",
      "source": [
        "Let's visualize a few images to get an understanding of what we are dealing with"
      ],
      "metadata": {
        "id": "3JbXNzdHnZzB"
      }
    },
    {
      "cell_type": "code",
      "source": [
        "train_set.data.numpy().mean()"
      ],
      "metadata": {
        "colab": {
          "base_uri": "https://localhost:8080/"
        },
        "id": "3-gB1PFno7nw",
        "outputId": "63a52d77-ef47-407f-d30b-363733544201"
      },
      "execution_count": 15,
      "outputs": [
        {
          "output_type": "execute_result",
          "data": {
            "text/plain": [
              "33.318421449829934"
            ]
          },
          "metadata": {},
          "execution_count": 15
        }
      ]
    },
    {
      "cell_type": "code",
      "source": [
        "sample_data = next(iter(train_loader))"
      ],
      "metadata": {
        "id": "1nyox1hZo16G"
      },
      "execution_count": 16,
      "outputs": []
    },
    {
      "cell_type": "code",
      "source": [
        "fig,axes=plt.subplots(3,3,figsize=(10,10))\n",
        "\n",
        "for i, ax  in enumerate(axes.ravel()):\n",
        "    mean=0.1307\n",
        "    std =0.3081\n",
        "    image=((sample_data[0][i]*mean)+std)\n",
        "    ax.imshow(torch.squeeze(image))\n"
      ],
      "metadata": {
        "colab": {
          "base_uri": "https://localhost:8080/",
          "height": 593
        },
        "id": "x6U0YxYdjS45",
        "outputId": "fcecbdbd-bb58-4a6a-9746-05f9a6cfab36"
      },
      "execution_count": 17,
      "outputs": [
        {
          "output_type": "display_data",
          "data": {
            "text/plain": [
              "<Figure size 720x720 with 9 Axes>"
            ],
            "image/png": "[encoded data removed]"
          },
          "metadata": {
            "needs_background": "light"
          }
        }
      ]
    },
    {
      "cell_type": "code",
      "source": [
        "class ConvNet_1(nn.Module):\n",
        "  def __init__(self):\n",
        "    super().__init__()\n",
        "    self.fc=nn.Linear(32,10)\n",
        "    self.network = nn.Sequential(\n",
        "        #  layer 1\n",
        "        nn.Conv2d(1, 8, 3, padding=1),        \n",
        "        nn.ReLU(), #  feature map size = (28, 28)\n",
        "        nn.BatchNorm2d(8),\n",
        "        nn.Dropout2d(p=0.1) ,       \n",
        "\n",
        "        #  layer 2\n",
        "        nn.Conv2d(8, 16, 3, padding=1),        \n",
        "        nn.ReLU(),\n",
        "        nn.BatchNorm2d(16),        \n",
        "        nn.MaxPool2d(2), #  feature map size = (14, 14)\n",
        "        nn.Dropout2d(p=0.1) ,\n",
        "\n",
        "        #  layer 3\n",
        "        nn.Conv2d(16, 16, 1, padding=1),       \n",
        "        nn.ReLU(), #  feature map size = (14, 14)\n",
        "        nn.BatchNorm2d(16), \n",
        "        nn.Dropout2d(p=0.1) ,      \n",
        "\n",
        "        #  layer 4\n",
        "        nn.Conv2d(16, 16, 3, padding=1),        \n",
        "        nn.ReLU(),\n",
        "        nn.BatchNorm2d(16),        \n",
        "        nn.MaxPool2d(2), #  feature map size = (7, 7)\n",
        "        nn.Dropout2d(p=0.1) ,\n",
        "\n",
        "        #  layer 5\n",
        "        nn.Conv2d(16, 32, 3, padding=1),       \n",
        "        nn.ReLU(), #  feature map size = (7, 7)\n",
        "        nn.BatchNorm2d(32),  \n",
        "        nn.Dropout2d(p=0.1) ,      \n",
        "\n",
        "        #  layer 6\n",
        "        nn.Conv2d(32, 32, 3, padding=1),        \n",
        "        nn.ReLU(),\n",
        "        nn.BatchNorm2d(32),        \n",
        "        nn.MaxPool2d(2), #  feature map size = (3, 3)\n",
        "        nn.Dropout2d(p=0.1) ,\n",
        "\n",
        "        #  output layer\n",
        "        nn.Conv2d(32, 32, 1),\n",
        "        nn.AvgPool2d(3)\n",
        "        \n",
        "    )\n",
        "\n",
        "  def forward(self, x):\n",
        "    x = x.view(-1, 1, 28, 28)\n",
        "    output = self.network(x)\n",
        "    output=output.view(-1,32)\n",
        "    output = self.fc(output)\n",
        "    return F.log_softmax(output)\n",
        "     "
      ],
      "metadata": {
        "id": "L1VA05dZaRuY"
      },
      "execution_count": 18,
      "outputs": []
    },
    {
      "cell_type": "code",
      "source": [
        "# class Net(nn.Module):\n",
        "#     def __init__(self):\n",
        "#         super().__init__()\n",
        "#         self.conv1 = nn.Conv2d(1, 32, kernel_size=3)\n",
        "#         self.conv1_bn= nn.BatchNorm2d(32)\n",
        "#         self.conv2 = nn.Conv2d(32, 64, kernel_size=3)\n",
        "#         self.conv2_bn= nn.BatchNorm2d(64)\n",
        "#         self.conv2_drop = nn.Dropout2d()        \n",
        "#         # self.fc1 = nn.Linear(576, 40)\n",
        "#         # self.fc2 = nn.Linear(40, 10)\n",
        "#         self.conv3=nn.Conv2d(64,10,kernel_size=1)\n",
        "#         self.avg_pool=nn.AvgPool2d(5)\n",
        "\n",
        "#     def forward(self, x):       \n",
        "        \n",
        "#         x = F.max_pool2d(self.conv1_bn(F.relu(self.conv2_drop(self.conv1(x)))),2)\n",
        "#         x = F.max_pool2d(self.conv2_bn(F.relu(self.conv2_drop(self.conv2(x)))),2)  \n",
        "            \n",
        "#         x = self.conv3(x)        \n",
        "#         output=self.avg_pool(x)\n",
        "       \n",
        "#         output = output.view(-1, 10)\n",
        "#         # x = x.view(-1, 576)\n",
        "#         # x = F.relu(self.fc1(x))\n",
        "#         # x = F.dropout(x, training=self.training)\n",
        "#         # x = self.fc2(x)\n",
        "#         return F.log_softmax(output)"
      ],
      "metadata": {
        "id": "YaS4nYnsjkYx"
      },
      "execution_count": 19,
      "outputs": []
    },
    {
      "cell_type": "code",
      "source": [
        "# !pip install torchsummary\n",
        "from torchsummary import summary\n",
        "use_cuda = torch.cuda.is_available()\n",
        "device = torch.device(\"cuda\" if use_cuda else \"cpu\")\n",
        "model = ConvNet_1().to(device)\n",
        "summary(model, input_size=(1, 28, 28))"
      ],
      "metadata": {
        "colab": {
          "base_uri": "https://localhost:8080/"
        },
        "id": "SKvOv3Fip_d0",
        "outputId": "718615ea-031f-4dc9-fa46-9c45ee0ea46d"
      },
      "execution_count": 20,
      "outputs": [
        {
          "output_type": "stream",
          "name": "stdout",
          "text": [
            "----------------------------------------------------------------\n",
            "        Layer (type)               Output Shape         Param #\n",
            "================================================================\n",
            "            Conv2d-1            [-1, 8, 28, 28]              80\n",
            "              ReLU-2            [-1, 8, 28, 28]               0\n",
            "       BatchNorm2d-3            [-1, 8, 28, 28]              16\n",
            "         Dropout2d-4            [-1, 8, 28, 28]               0\n",
            "            Conv2d-5           [-1, 16, 28, 28]           1,168\n",
            "              ReLU-6           [-1, 16, 28, 28]               0\n",
            "       BatchNorm2d-7           [-1, 16, 28, 28]              32\n",
            "         MaxPool2d-8           [-1, 16, 14, 14]               0\n",
            "         Dropout2d-9           [-1, 16, 14, 14]               0\n",
            "           Conv2d-10           [-1, 16, 16, 16]             272\n",
            "             ReLU-11           [-1, 16, 16, 16]               0\n",
            "      BatchNorm2d-12           [-1, 16, 16, 16]              32\n",
            "        Dropout2d-13           [-1, 16, 16, 16]               0\n",
            "           Conv2d-14           [-1, 16, 16, 16]           2,320\n",
            "             ReLU-15           [-1, 16, 16, 16]               0\n",
            "      BatchNorm2d-16           [-1, 16, 16, 16]              32\n",
            "        MaxPool2d-17             [-1, 16, 8, 8]               0\n",
            "        Dropout2d-18             [-1, 16, 8, 8]               0\n",
            "           Conv2d-19             [-1, 32, 8, 8]           4,640\n",
            "             ReLU-20             [-1, 32, 8, 8]               0\n",
            "      BatchNorm2d-21             [-1, 32, 8, 8]              64\n",
            "        Dropout2d-22             [-1, 32, 8, 8]               0\n",
            "           Conv2d-23             [-1, 32, 8, 8]           9,248\n",
            "             ReLU-24             [-1, 32, 8, 8]               0\n",
            "      BatchNorm2d-25             [-1, 32, 8, 8]              64\n",
            "        MaxPool2d-26             [-1, 32, 4, 4]               0\n",
            "        Dropout2d-27             [-1, 32, 4, 4]               0\n",
            "           Conv2d-28             [-1, 32, 4, 4]           1,056\n",
            "        AvgPool2d-29             [-1, 32, 1, 1]               0\n",
            "           Linear-30                   [-1, 10]             330\n",
            "================================================================\n",
            "Total params: 19,354\n",
            "Trainable params: 19,354\n",
            "Non-trainable params: 0\n",
            "----------------------------------------------------------------\n",
            "Input size (MB): 0.00\n",
            "Forward/backward pass size (MB): 0.88\n",
            "Params size (MB): 0.07\n",
            "Estimated Total Size (MB): 0.96\n",
            "----------------------------------------------------------------\n"
          ]
        }
      ]
    },
    {
      "cell_type": "code",
      "source": [
        "def fit(epoch,model,data_loader,phase='training',volatile=False):\n",
        "    if phase == 'training':\n",
        "        model.train()\n",
        "    if phase == 'validation':\n",
        "        model.eval()\n",
        "        volatile=True\n",
        "    running_loss = 0.0\n",
        "    running_correct = 0\n",
        "    for batch_idx , (data,target) in enumerate(data_loader):\n",
        "        \n",
        "        data,target = data.to(device),target.to(device)\n",
        "       \n",
        "        if phase == 'training':\n",
        "            optimizer.zero_grad()\n",
        "        output = model(data)\n",
        "        \n",
        "        loss = F.nll_loss(output,target)\n",
        "        \n",
        "        running_loss +=loss.item()\n",
        "        preds = output.data.max(dim=1,keepdim=True)[1]\n",
        "        running_correct += preds.eq(target.data.view_as(preds)).cpu().sum()\n",
        "        if phase == 'training':\n",
        "            loss.backward()\n",
        "            optimizer.step()\n",
        "    \n",
        "    loss = running_loss/len(data_loader.dataset)\n",
        "    accuracy = 100. * running_correct/len(data_loader.dataset)\n",
        "    \n",
        "    print(f'Epoch [{epoch}] [{phase} loss: {loss:{5}.{2}}  {phase} accuracy: {accuracy:{10}.{4}}]')\n",
        "    return loss,accuracy.item()\n"
      ],
      "metadata": {
        "id": "MOY7Du-7qQlx"
      },
      "execution_count": 21,
      "outputs": []
    },
    {
      "cell_type": "code",
      "source": [
        "# model = Net().to(device)\n",
        "import warnings\n",
        "warnings.filterwarnings(\"ignore\")\n",
        "optimizer = optim.SGD(model.parameters(),lr=0.01,momentum=0.5)\n",
        "train_losses , train_accuracy = [],[]\n",
        "val_losses , val_accuracy = [],[]\n",
        "for epoch in range(1,20):\n",
        "    epoch_loss, epoch_accuracy = fit(epoch,model,train_loader,phase='training')\n",
        "    val_epoch_loss , val_epoch_accuracy = fit(epoch,model,test_loader,phase='validation')\n",
        "    train_losses.append(epoch_loss)\n",
        "    train_accuracy.append(epoch_accuracy)\n",
        "    val_losses.append(val_epoch_loss)\n",
        "    val_accuracy.append(val_epoch_accuracy)"
      ],
      "metadata": {
        "colab": {
          "base_uri": "https://localhost:8080/"
        },
        "id": "EFQZeF4D4gSH",
        "outputId": "b934d665-76b7-4935-96db-d6c37cde49b2"
      },
      "execution_count": 22,
      "outputs": [
        {
          "output_type": "stream",
          "name": "stdout",
          "text": [
            "Epoch [1] [training loss: 0.011  training accuracy:      77.32]\n",
            "Epoch [1] [validation loss: 0.0016  validation accuracy:      97.11]\n",
            "Epoch [2] [training loss: 0.0027  training accuracy:      95.04]\n",
            "Epoch [2] [validation loss: 0.00087  validation accuracy:      98.44]\n",
            "Epoch [3] [training loss: 0.0018  training accuracy:      96.58]\n",
            "Epoch [3] [validation loss: 0.00066  validation accuracy:      98.79]\n",
            "Epoch [4] [training loss: 0.0014  training accuracy:      97.26]\n",
            "Epoch [4] [validation loss: 0.00055  validation accuracy:      98.91]\n",
            "Epoch [5] [training loss: 0.0012  training accuracy:      97.65]\n",
            "Epoch [5] [validation loss: 0.00054  validation accuracy:      99.04]\n",
            "Epoch [6] [training loss: 0.0011  training accuracy:      97.83]\n",
            "Epoch [6] [validation loss: 0.00048  validation accuracy:      99.05]\n",
            "Epoch [7] [training loss: 0.001  training accuracy:      97.99]\n",
            "Epoch [7] [validation loss: 0.00038  validation accuracy:      99.25]\n",
            "Epoch [8] [training loss: 0.00089  training accuracy:      98.29]\n",
            "Epoch [8] [validation loss: 0.00041  validation accuracy:       99.1]\n",
            "Epoch [9] [training loss: 0.00088  training accuracy:      98.35]\n",
            "Epoch [9] [validation loss: 0.00034  validation accuracy:      99.27]\n",
            "Epoch [10] [training loss: 0.00081  training accuracy:      98.42]\n",
            "Epoch [10] [validation loss: 0.00037  validation accuracy:      99.26]\n",
            "Epoch [11] [training loss: 0.00077  training accuracy:      98.49]\n",
            "Epoch [11] [validation loss: 0.00034  validation accuracy:       99.3]\n",
            "Epoch [12] [training loss: 0.00074  training accuracy:      98.52]\n",
            "Epoch [12] [validation loss: 0.00033  validation accuracy:      99.31]\n",
            "Epoch [13] [training loss: 0.00072  training accuracy:      98.62]\n",
            "Epoch [13] [validation loss: 0.00033  validation accuracy:       99.3]\n",
            "Epoch [14] [training loss: 0.00069  training accuracy:      98.61]\n",
            "Epoch [14] [validation loss: 0.00031  validation accuracy:      99.35]\n",
            "Epoch [15] [training loss: 0.00065  training accuracy:      98.72]\n",
            "Epoch [15] [validation loss: 0.00032  validation accuracy:      99.37]\n",
            "Epoch [16] [training loss: 0.00062  training accuracy:      98.85]\n",
            "Epoch [16] [validation loss: 0.00032  validation accuracy:      99.29]\n",
            "Epoch [17] [training loss: 0.0006  training accuracy:      98.78]\n",
            "Epoch [17] [validation loss: 0.00032  validation accuracy:      99.31]\n",
            "Epoch [18] [training loss: 0.00059  training accuracy:      98.85]\n",
            "Epoch [18] [validation loss: 0.0003  validation accuracy:      99.41]\n",
            "Epoch [19] [training loss: 0.00058  training accuracy:      98.88]\n",
            "Epoch [19] [validation loss: 0.00032  validation accuracy:      99.32]\n"
          ]
        }
      ]
    },
    {
      "cell_type": "code",
      "source": [
        "## Plot the logs\n",
        "%matplotlib inline\n",
        "import seaborn as sns\n",
        "plt.figure(figsize=(10,8))\n",
        "sns.lineplot(y=train_accuracy,x=range(len(train_accuracy)),label=\"Training Accuracy\")\n",
        "sns.lineplot(y=val_accuracy,x=range(len(val_accuracy)),label=\"Validation Accuracy\")\n",
        "plt.xlabel(\"Epochs\")\n",
        "plt.ylabel(\"Accuracy\")\n",
        "plt.show()"
      ],
      "metadata": {
        "id": "ANysi_Nfy20q",
        "colab": {
          "base_uri": "https://localhost:8080/",
          "height": 497
        },
        "outputId": "1b0b5832-690d-43f9-9668-9e5ba855157d"
      },
      "execution_count": 23,
      "outputs": [
        {
          "output_type": "display_data",
          "data": {
            "text/plain": [
              "<Figure size 720x576 with 1 Axes>"
            ],
            "image/png": "[encoded data removed]"
          },
          "metadata": {
            "needs_background": "light"
          }
        }
      ]
    },
    {
      "cell_type": "code",
      "source": [
        "## Plot the logs\n",
        "%matplotlib inline\n",
        "import seaborn as sns\n",
        "plt.figure(figsize=(10,8))\n",
        "sns.lineplot(y=train_losses,x=range(len(train_losses)),label=\"Training Loss\")\n",
        "sns.lineplot(y=val_losses,x=range(len(val_losses)),label=\"Validation Loss\")\n",
        "plt.xlabel(\"Epochs\")\n",
        "plt.ylabel(\"Loss\")\n",
        "plt.show()"
      ],
      "metadata": {
        "id": "geRXnZve4koA",
        "colab": {
          "base_uri": "https://localhost:8080/",
          "height": 497
        },
        "outputId": "821e9754-bd53-4bd2-ab6b-de3882811663"
      },
      "execution_count": 24,
      "outputs": [
        {
          "output_type": "display_data",
          "data": {
            "text/plain": [
              "<Figure size 720x576 with 1 Axes>"
            ],
            "image/png": "[encoded data removed]"
          },
          "metadata": {
            "needs_background": "light"
          }
        }
      ]
    },
    {
      "cell_type": "code",
      "source": [],
      "metadata": {
        "id": "HtKhsHU-w2of"
      },
      "execution_count": 24,
      "outputs": []
    }
  ]
}