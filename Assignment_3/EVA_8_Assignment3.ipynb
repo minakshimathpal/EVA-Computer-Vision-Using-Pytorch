{
  "nbformat": 4,
  "nbformat_minor": 0,
  "metadata": {
    "colab": {
      "provenance": []
    },
    "kernelspec": {
      "name": "python3",
      "display_name": "Python 3"
    },
    "language_info": {
      "name": "python"
    }
  },
  "cells": [
    {
      "cell_type": "code",
      "execution_count": 7,
      "metadata": {
        "colab": {
          "base_uri": "https://localhost:8080/"
        },
        "id": "L-jkcONH9JZO",
        "outputId": "a221d595-58c5-4132-e409-2f4bf7243461"
      },
      "outputs": [
        {
          "output_type": "execute_result",
          "data": {
            "text/plain": [
              "<torch._C.Generator at 0x7f292d242e70>"
            ]
          },
          "metadata": {},
          "execution_count": 7
        }
      ],
      "source": [
        "import torch \n",
        "import torch.nn as nn\n",
        "import torch.nn.functional as F\n",
        "from torchvision import datasets,transforms # transformations we can perform on our dataset\n",
        "from torch.utils.data import Dataset, DataLoader\n",
        "\n",
        "import numpy as np\n",
        "torch.manual_seed(42)"
      ]
    },
    {
      "cell_type": "markdown",
      "source": [
        "### Get the Data\n",
        "**Steps**\n",
        "1. Initialize transformation\n",
        "2. Load the data from torchvision dataset\n",
        "3. Create a dataloader using the data from above step\n"
      ],
      "metadata": {
        "id": "anMq825w9vvc"
      }
    },
    {
      "cell_type": "code",
      "source": [
        "# # Initialize transformation, datasets, and loaders\n",
        "# Compose is used to Combine \n",
        "my_transforms= transforms.Compose()\n",
        "train_set= datasets.MNIST(root=\"./data\",train=True,download=True)"
      ],
      "metadata": {
        "id": "-RxeXOh5-doa"
      },
      "execution_count": null,
      "outputs": []
    }
  ]
}