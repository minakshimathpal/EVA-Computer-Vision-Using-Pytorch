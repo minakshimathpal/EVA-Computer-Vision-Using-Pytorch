{
  "nbformat": 4,
  "nbformat_minor": 0,
  "metadata": {
    "colab": {
      "provenance": []
    },
    "kernelspec": {
      "name": "python3",
      "display_name": "Python 3"
    },
    "language_info": {
      "name": "python"
    },
    "accelerator": "GPU",
    "gpuClass": "standard",
    "widgets": {
      "application/vnd.jupyter.widget-state+json": {
        "a183250b284b4d1fb055e0d2d28faf73": {
          "model_module": "@jupyter-widgets/controls",
          "model_name": "HBoxModel",
          "model_module_version": "1.5.0",
          "state": {
            "_dom_classes": [],
            "_model_module": "@jupyter-widgets/controls",
            "_model_module_version": "1.5.0",
            "_model_name": "HBoxModel",
            "_view_count": null,
            "_view_module": "@jupyter-widgets/controls",
            "_view_module_version": "1.5.0",
            "_view_name": "HBoxView",
            "box_style": "",
            "children": [
              "IPY_MODEL_37853f7870034fccb6b2d4ba8dde09dd",
              "IPY_MODEL_010a4e0daef14612b4ec2a9e612fab5e",
              "IPY_MODEL_427e6c000d6a4572943b391e1c81ca49"
            ],
            "layout": "IPY_MODEL_4b48f65ab86448628eedd6afd1faf2a6"
          }
        },
        "37853f7870034fccb6b2d4ba8dde09dd": {
          "model_module": "@jupyter-widgets/controls",
          "model_name": "HTMLModel",
          "model_module_version": "1.5.0",
          "state": {
            "_dom_classes": [],
            "_model_module": "@jupyter-widgets/controls",
            "_model_module_version": "1.5.0",
            "_model_name": "HTMLModel",
            "_view_count": null,
            "_view_module": "@jupyter-widgets/controls",
            "_view_module_version": "1.5.0",
            "_view_name": "HTMLView",
            "description": "",
            "description_tooltip": null,
            "layout": "IPY_MODEL_bd9c92c749aa4f69aea59bd1416e5644",
            "placeholder": "​",
            "style": "IPY_MODEL_dcdad2f069ce4b118986c23281113536",
            "value": "100%"
          }
        },
        "010a4e0daef14612b4ec2a9e612fab5e": {
          "model_module": "@jupyter-widgets/controls",
          "model_name": "FloatProgressModel",
          "model_module_version": "1.5.0",
          "state": {
            "_dom_classes": [],
            "_model_module": "@jupyter-widgets/controls",
            "_model_module_version": "1.5.0",
            "_model_name": "FloatProgressModel",
            "_view_count": null,
            "_view_module": "@jupyter-widgets/controls",
            "_view_module_version": "1.5.0",
            "_view_name": "ProgressView",
            "bar_style": "success",
            "description": "",
            "description_tooltip": null,
            "layout": "IPY_MODEL_9a71890ddd60400d99452501a91261d8",
            "max": 9912422,
            "min": 0,
            "orientation": "horizontal",
            "style": "IPY_MODEL_dc04076d81f245b084a01958db4d803d",
            "value": 9912422
          }
        },
        "427e6c000d6a4572943b391e1c81ca49": {
          "model_module": "@jupyter-widgets/controls",
          "model_name": "HTMLModel",
          "model_module_version": "1.5.0",
          "state": {
            "_dom_classes": [],
            "_model_module": "@jupyter-widgets/controls",
            "_model_module_version": "1.5.0",
            "_model_name": "HTMLModel",
            "_view_count": null,
            "_view_module": "@jupyter-widgets/controls",
            "_view_module_version": "1.5.0",
            "_view_name": "HTMLView",
            "description": "",
            "description_tooltip": null,
            "layout": "IPY_MODEL_944d8afeddbd434684ea309e6d2cf8be",
            "placeholder": "​",
            "style": "IPY_MODEL_da75ebe6b5904eef8e3a5c8d51b095e1",
            "value": " 9912422/9912422 [00:00&lt;00:00, 155234037.19it/s]"
          }
        },
        "4b48f65ab86448628eedd6afd1faf2a6": {
          "model_module": "@jupyter-widgets/base",
          "model_name": "LayoutModel",
          "model_module_version": "1.2.0",
          "state": {
            "_model_module": "@jupyter-widgets/base",
            "_model_module_version": "1.2.0",
            "_model_name": "LayoutModel",
            "_view_count": null,
            "_view_module": "@jupyter-widgets/base",
            "_view_module_version": "1.2.0",
            "_view_name": "LayoutView",
            "align_content": null,
            "align_items": null,
            "align_self": null,
            "border": null,
            "bottom": null,
            "display": null,
            "flex": null,
            "flex_flow": null,
            "grid_area": null,
            "grid_auto_columns": null,
            "grid_auto_flow": null,
            "grid_auto_rows": null,
            "grid_column": null,
            "grid_gap": null,
            "grid_row": null,
            "grid_template_areas": null,
            "grid_template_columns": null,
            "grid_template_rows": null,
            "height": null,
            "justify_content": null,
            "justify_items": null,
            "left": null,
            "margin": null,
            "max_height": null,
            "max_width": null,
            "min_height": null,
            "min_width": null,
            "object_fit": null,
            "object_position": null,
            "order": null,
            "overflow": null,
            "overflow_x": null,
            "overflow_y": null,
            "padding": null,
            "right": null,
            "top": null,
            "visibility": null,
            "width": null
          }
        },
        "bd9c92c749aa4f69aea59bd1416e5644": {
          "model_module": "@jupyter-widgets/base",
          "model_name": "LayoutModel",
          "model_module_version": "1.2.0",
          "state": {
            "_model_module": "@jupyter-widgets/base",
            "_model_module_version": "1.2.0",
            "_model_name": "LayoutModel",
            "_view_count": null,
            "_view_module": "@jupyter-widgets/base",
            "_view_module_version": "1.2.0",
            "_view_name": "LayoutView",
            "align_content": null,
            "align_items": null,
            "align_self": null,
            "border": null,
            "bottom": null,
            "display": null,
            "flex": null,
            "flex_flow": null,
            "grid_area": null,
            "grid_auto_columns": null,
            "grid_auto_flow": null,
            "grid_auto_rows": null,
            "grid_column": null,
            "grid_gap": null,
            "grid_row": null,
            "grid_template_areas": null,
            "grid_template_columns": null,
            "grid_template_rows": null,
            "height": null,
            "justify_content": null,
            "justify_items": null,
            "left": null,
            "margin": null,
            "max_height": null,
            "max_width": null,
            "min_height": null,
            "min_width": null,
            "object_fit": null,
            "object_position": null,
            "order": null,
            "overflow": null,
            "overflow_x": null,
            "overflow_y": null,
            "padding": null,
            "right": null,
            "top": null,
            "visibility": null,
            "width": null
          }
        },
        "dcdad2f069ce4b118986c23281113536": {
          "model_module": "@jupyter-widgets/controls",
          "model_name": "DescriptionStyleModel",
          "model_module_version": "1.5.0",
          "state": {
            "_model_module": "@jupyter-widgets/controls",
            "_model_module_version": "1.5.0",
            "_model_name": "DescriptionStyleModel",
            "_view_count": null,
            "_view_module": "@jupyter-widgets/base",
            "_view_module_version": "1.2.0",
            "_view_name": "StyleView",
            "description_width": ""
          }
        },
        "9a71890ddd60400d99452501a91261d8": {
          "model_module": "@jupyter-widgets/base",
          "model_name": "LayoutModel",
          "model_module_version": "1.2.0",
          "state": {
            "_model_module": "@jupyter-widgets/base",
            "_model_module_version": "1.2.0",
            "_model_name": "LayoutModel",
            "_view_count": null,
            "_view_module": "@jupyter-widgets/base",
            "_view_module_version": "1.2.0",
            "_view_name": "LayoutView",
            "align_content": null,
            "align_items": null,
            "align_self": null,
            "border": null,
            "bottom": null,
            "display": null,
            "flex": null,
            "flex_flow": null,
            "grid_area": null,
            "grid_auto_columns": null,
            "grid_auto_flow": null,
            "grid_auto_rows": null,
            "grid_column": null,
            "grid_gap": null,
            "grid_row": null,
            "grid_template_areas": null,
            "grid_template_columns": null,
            "grid_template_rows": null,
            "height": null,
            "justify_content": null,
            "justify_items": null,
            "left": null,
            "margin": null,
            "max_height": null,
            "max_width": null,
            "min_height": null,
            "min_width": null,
            "object_fit": null,
            "object_position": null,
            "order": null,
            "overflow": null,
            "overflow_x": null,
            "overflow_y": null,
            "padding": null,
            "right": null,
            "top": null,
            "visibility": null,
            "width": null
          }
        },
        "dc04076d81f245b084a01958db4d803d": {
          "model_module": "@jupyter-widgets/controls",
          "model_name": "ProgressStyleModel",
          "model_module_version": "1.5.0",
          "state": {
            "_model_module": "@jupyter-widgets/controls",
            "_model_module_version": "1.5.0",
            "_model_name": "ProgressStyleModel",
            "_view_count": null,
            "_view_module": "@jupyter-widgets/base",
            "_view_module_version": "1.2.0",
            "_view_name": "StyleView",
            "bar_color": null,
            "description_width": ""
          }
        },
        "944d8afeddbd434684ea309e6d2cf8be": {
          "model_module": "@jupyter-widgets/base",
          "model_name": "LayoutModel",
          "model_module_version": "1.2.0",
          "state": {
            "_model_module": "@jupyter-widgets/base",
            "_model_module_version": "1.2.0",
            "_model_name": "LayoutModel",
            "_view_count": null,
            "_view_module": "@jupyter-widgets/base",
            "_view_module_version": "1.2.0",
            "_view_name": "LayoutView",
            "align_content": null,
            "align_items": null,
            "align_self": null,
            "border": null,
            "bottom": null,
            "display": null,
            "flex": null,
            "flex_flow": null,
            "grid_area": null,
            "grid_auto_columns": null,
            "grid_auto_flow": null,
            "grid_auto_rows": null,
            "grid_column": null,
            "grid_gap": null,
            "grid_row": null,
            "grid_template_areas": null,
            "grid_template_columns": null,
            "grid_template_rows": null,
            "height": null,
            "justify_content": null,
            "justify_items": null,
            "left": null,
            "margin": null,
            "max_height": null,
            "max_width": null,
            "min_height": null,
            "min_width": null,
            "object_fit": null,
            "object_position": null,
            "order": null,
            "overflow": null,
            "overflow_x": null,
            "overflow_y": null,
            "padding": null,
            "right": null,
            "top": null,
            "visibility": null,
            "width": null
          }
        },
        "da75ebe6b5904eef8e3a5c8d51b095e1": {
          "model_module": "@jupyter-widgets/controls",
          "model_name": "DescriptionStyleModel",
          "model_module_version": "1.5.0",
          "state": {
            "_model_module": "@jupyter-widgets/controls",
            "_model_module_version": "1.5.0",
            "_model_name": "DescriptionStyleModel",
            "_view_count": null,
            "_view_module": "@jupyter-widgets/base",
            "_view_module_version": "1.2.0",
            "_view_name": "StyleView",
            "description_width": ""
          }
        },
        "ce379d9232ad4d889dd457a48f095694": {
          "model_module": "@jupyter-widgets/controls",
          "model_name": "HBoxModel",
          "model_module_version": "1.5.0",
          "state": {
            "_dom_classes": [],
            "_model_module": "@jupyter-widgets/controls",
            "_model_module_version": "1.5.0",
            "_model_name": "HBoxModel",
            "_view_count": null,
            "_view_module": "@jupyter-widgets/controls",
            "_view_module_version": "1.5.0",
            "_view_name": "HBoxView",
            "box_style": "",
            "children": [
              "IPY_MODEL_f30b4e01d5b54faf8d97b8086cba8254",
              "IPY_MODEL_eae3bf5c64084d5ea02da4f10f7d0272",
              "IPY_MODEL_3fbb5c9877444f1794575b20d80a8fbe"
            ],
            "layout": "IPY_MODEL_8e062f3660714e00bf2b029c01530abe"
          }
        },
        "f30b4e01d5b54faf8d97b8086cba8254": {
          "model_module": "@jupyter-widgets/controls",
          "model_name": "HTMLModel",
          "model_module_version": "1.5.0",
          "state": {
            "_dom_classes": [],
            "_model_module": "@jupyter-widgets/controls",
            "_model_module_version": "1.5.0",
            "_model_name": "HTMLModel",
            "_view_count": null,
            "_view_module": "@jupyter-widgets/controls",
            "_view_module_version": "1.5.0",
            "_view_name": "HTMLView",
            "description": "",
            "description_tooltip": null,
            "layout": "IPY_MODEL_afb45f90d5ea49cebc38d1ba2edbd859",
            "placeholder": "​",
            "style": "IPY_MODEL_2f32250db57b48348e08fc786d67e0c1",
            "value": "100%"
          }
        },
        "eae3bf5c64084d5ea02da4f10f7d0272": {
          "model_module": "@jupyter-widgets/controls",
          "model_name": "FloatProgressModel",
          "model_module_version": "1.5.0",
          "state": {
            "_dom_classes": [],
            "_model_module": "@jupyter-widgets/controls",
            "_model_module_version": "1.5.0",
            "_model_name": "FloatProgressModel",
            "_view_count": null,
            "_view_module": "@jupyter-widgets/controls",
            "_view_module_version": "1.5.0",
            "_view_name": "ProgressView",
            "bar_style": "success",
            "description": "",
            "description_tooltip": null,
            "layout": "IPY_MODEL_164758b7bec7497e8be21f42a391cb84",
            "max": 28881,
            "min": 0,
            "orientation": "horizontal",
            "style": "IPY_MODEL_63bced0f09c349688b4312dde6c21df6",
            "value": 28881
          }
        },
        "3fbb5c9877444f1794575b20d80a8fbe": {
          "model_module": "@jupyter-widgets/controls",
          "model_name": "HTMLModel",
          "model_module_version": "1.5.0",
          "state": {
            "_dom_classes": [],
            "_model_module": "@jupyter-widgets/controls",
            "_model_module_version": "1.5.0",
            "_model_name": "HTMLModel",
            "_view_count": null,
            "_view_module": "@jupyter-widgets/controls",
            "_view_module_version": "1.5.0",
            "_view_name": "HTMLView",
            "description": "",
            "description_tooltip": null,
            "layout": "IPY_MODEL_946e213ce0064759aef33cd63a5ed0c3",
            "placeholder": "​",
            "style": "IPY_MODEL_a9d0fbf980234b859340d654eaa61716",
            "value": " 28881/28881 [00:00&lt;00:00, 1218951.00it/s]"
          }
        },
        "8e062f3660714e00bf2b029c01530abe": {
          "model_module": "@jupyter-widgets/base",
          "model_name": "LayoutModel",
          "model_module_version": "1.2.0",
          "state": {
            "_model_module": "@jupyter-widgets/base",
            "_model_module_version": "1.2.0",
            "_model_name": "LayoutModel",
            "_view_count": null,
            "_view_module": "@jupyter-widgets/base",
            "_view_module_version": "1.2.0",
            "_view_name": "LayoutView",
            "align_content": null,
            "align_items": null,
            "align_self": null,
            "border": null,
            "bottom": null,
            "display": null,
            "flex": null,
            "flex_flow": null,
            "grid_area": null,
            "grid_auto_columns": null,
            "grid_auto_flow": null,
            "grid_auto_rows": null,
            "grid_column": null,
            "grid_gap": null,
            "grid_row": null,
            "grid_template_areas": null,
            "grid_template_columns": null,
            "grid_template_rows": null,
            "height": null,
            "justify_content": null,
            "justify_items": null,
            "left": null,
            "margin": null,
            "max_height": null,
            "max_width": null,
            "min_height": null,
            "min_width": null,
            "object_fit": null,
            "object_position": null,
            "order": null,
            "overflow": null,
            "overflow_x": null,
            "overflow_y": null,
            "padding": null,
            "right": null,
            "top": null,
            "visibility": null,
            "width": null
          }
        },
        "afb45f90d5ea49cebc38d1ba2edbd859": {
          "model_module": "@jupyter-widgets/base",
          "model_name": "LayoutModel",
          "model_module_version": "1.2.0",
          "state": {
            "_model_module": "@jupyter-widgets/base",
            "_model_module_version": "1.2.0",
            "_model_name": "LayoutModel",
            "_view_count": null,
            "_view_module": "@jupyter-widgets/base",
            "_view_module_version": "1.2.0",
            "_view_name": "LayoutView",
            "align_content": null,
            "align_items": null,
            "align_self": null,
            "border": null,
            "bottom": null,
            "display": null,
            "flex": null,
            "flex_flow": null,
            "grid_area": null,
            "grid_auto_columns": null,
            "grid_auto_flow": null,
            "grid_auto_rows": null,
            "grid_column": null,
            "grid_gap": null,
            "grid_row": null,
            "grid_template_areas": null,
            "grid_template_columns": null,
            "grid_template_rows": null,
            "height": null,
            "justify_content": null,
            "justify_items": null,
            "left": null,
            "margin": null,
            "max_height": null,
            "max_width": null,
            "min_height": null,
            "min_width": null,
            "object_fit": null,
            "object_position": null,
            "order": null,
            "overflow": null,
            "overflow_x": null,
            "overflow_y": null,
            "padding": null,
            "right": null,
            "top": null,
            "visibility": null,
            "width": null
          }
        },
        "2f32250db57b48348e08fc786d67e0c1": {
          "model_module": "@jupyter-widgets/controls",
          "model_name": "DescriptionStyleModel",
          "model_module_version": "1.5.0",
          "state": {
            "_model_module": "@jupyter-widgets/controls",
            "_model_module_version": "1.5.0",
            "_model_name": "DescriptionStyleModel",
            "_view_count": null,
            "_view_module": "@jupyter-widgets/base",
            "_view_module_version": "1.2.0",
            "_view_name": "StyleView",
            "description_width": ""
          }
        },
        "164758b7bec7497e8be21f42a391cb84": {
          "model_module": "@jupyter-widgets/base",
          "model_name": "LayoutModel",
          "model_module_version": "1.2.0",
          "state": {
            "_model_module": "@jupyter-widgets/base",
            "_model_module_version": "1.2.0",
            "_model_name": "LayoutModel",
            "_view_count": null,
            "_view_module": "@jupyter-widgets/base",
            "_view_module_version": "1.2.0",
            "_view_name": "LayoutView",
            "align_content": null,
            "align_items": null,
            "align_self": null,
            "border": null,
            "bottom": null,
            "display": null,
            "flex": null,
            "flex_flow": null,
            "grid_area": null,
            "grid_auto_columns": null,
            "grid_auto_flow": null,
            "grid_auto_rows": null,
            "grid_column": null,
            "grid_gap": null,
            "grid_row": null,
            "grid_template_areas": null,
            "grid_template_columns": null,
            "grid_template_rows": null,
            "height": null,
            "justify_content": null,
            "justify_items": null,
            "left": null,
            "margin": null,
            "max_height": null,
            "max_width": null,
            "min_height": null,
            "min_width": null,
            "object_fit": null,
            "object_position": null,
            "order": null,
            "overflow": null,
            "overflow_x": null,
            "overflow_y": null,
            "padding": null,
            "right": null,
            "top": null,
            "visibility": null,
            "width": null
          }
        },
        "63bced0f09c349688b4312dde6c21df6": {
          "model_module": "@jupyter-widgets/controls",
          "model_name": "ProgressStyleModel",
          "model_module_version": "1.5.0",
          "state": {
            "_model_module": "@jupyter-widgets/controls",
            "_model_module_version": "1.5.0",
            "_model_name": "ProgressStyleModel",
            "_view_count": null,
            "_view_module": "@jupyter-widgets/base",
            "_view_module_version": "1.2.0",
            "_view_name": "StyleView",
            "bar_color": null,
            "description_width": ""
          }
        },
        "946e213ce0064759aef33cd63a5ed0c3": {
          "model_module": "@jupyter-widgets/base",
          "model_name": "LayoutModel",
          "model_module_version": "1.2.0",
          "state": {
            "_model_module": "@jupyter-widgets/base",
            "_model_module_version": "1.2.0",
            "_model_name": "LayoutModel",
            "_view_count": null,
            "_view_module": "@jupyter-widgets/base",
            "_view_module_version": "1.2.0",
            "_view_name": "LayoutView",
            "align_content": null,
            "align_items": null,
            "align_self": null,
            "border": null,
            "bottom": null,
            "display": null,
            "flex": null,
            "flex_flow": null,
            "grid_area": null,
            "grid_auto_columns": null,
            "grid_auto_flow": null,
            "grid_auto_rows": null,
            "grid_column": null,
            "grid_gap": null,
            "grid_row": null,
            "grid_template_areas": null,
            "grid_template_columns": null,
            "grid_template_rows": null,
            "height": null,
            "justify_content": null,
            "justify_items": null,
            "left": null,
            "margin": null,
            "max_height": null,
            "max_width": null,
            "min_height": null,
            "min_width": null,
            "object_fit": null,
            "object_position": null,
            "order": null,
            "overflow": null,
            "overflow_x": null,
            "overflow_y": null,
            "padding": null,
            "right": null,
            "top": null,
            "visibility": null,
            "width": null
          }
        },
        "a9d0fbf980234b859340d654eaa61716": {
          "model_module": "@jupyter-widgets/controls",
          "model_name": "DescriptionStyleModel",
          "model_module_version": "1.5.0",
          "state": {
            "_model_module": "@jupyter-widgets/controls",
            "_model_module_version": "1.5.0",
            "_model_name": "DescriptionStyleModel",
            "_view_count": null,
            "_view_module": "@jupyter-widgets/base",
            "_view_module_version": "1.2.0",
            "_view_name": "StyleView",
            "description_width": ""
          }
        },
        "43bdb5eb23584151a405a4f86a360680": {
          "model_module": "@jupyter-widgets/controls",
          "model_name": "HBoxModel",
          "model_module_version": "1.5.0",
          "state": {
            "_dom_classes": [],
            "_model_module": "@jupyter-widgets/controls",
            "_model_module_version": "1.5.0",
            "_model_name": "HBoxModel",
            "_view_count": null,
            "_view_module": "@jupyter-widgets/controls",
            "_view_module_version": "1.5.0",
            "_view_name": "HBoxView",
            "box_style": "",
            "children": [
              "IPY_MODEL_6bf9fa53c6424627a83414cf4a3b5f5a",
              "IPY_MODEL_1884315a30d540f7a62c4addcaaa70e9",
              "IPY_MODEL_0c543e6d80024726ad51ac877c9f19fd"
            ],
            "layout": "IPY_MODEL_71a025d7f56541e89dc76a3124bfb03d"
          }
        },
        "6bf9fa53c6424627a83414cf4a3b5f5a": {
          "model_module": "@jupyter-widgets/controls",
          "model_name": "HTMLModel",
          "model_module_version": "1.5.0",
          "state": {
            "_dom_classes": [],
            "_model_module": "@jupyter-widgets/controls",
            "_model_module_version": "1.5.0",
            "_model_name": "HTMLModel",
            "_view_count": null,
            "_view_module": "@jupyter-widgets/controls",
            "_view_module_version": "1.5.0",
            "_view_name": "HTMLView",
            "description": "",
            "description_tooltip": null,
            "layout": "IPY_MODEL_e3efd163491442349061def0e2b976e4",
            "placeholder": "​",
            "style": "IPY_MODEL_70dd3e041d874ecaa4d1d6affcfc6241",
            "value": "100%"
          }
        },
        "1884315a30d540f7a62c4addcaaa70e9": {
          "model_module": "@jupyter-widgets/controls",
          "model_name": "FloatProgressModel",
          "model_module_version": "1.5.0",
          "state": {
            "_dom_classes": [],
            "_model_module": "@jupyter-widgets/controls",
            "_model_module_version": "1.5.0",
            "_model_name": "FloatProgressModel",
            "_view_count": null,
            "_view_module": "@jupyter-widgets/controls",
            "_view_module_version": "1.5.0",
            "_view_name": "ProgressView",
            "bar_style": "success",
            "description": "",
            "description_tooltip": null,
            "layout": "IPY_MODEL_689b59cb55894e13860865789fa2fae3",
            "max": 1648877,
            "min": 0,
            "orientation": "horizontal",
            "style": "IPY_MODEL_be30e30650c84ae8bf6c5cff0c605edf",
            "value": 1648877
          }
        },
        "0c543e6d80024726ad51ac877c9f19fd": {
          "model_module": "@jupyter-widgets/controls",
          "model_name": "HTMLModel",
          "model_module_version": "1.5.0",
          "state": {
            "_dom_classes": [],
            "_model_module": "@jupyter-widgets/controls",
            "_model_module_version": "1.5.0",
            "_model_name": "HTMLModel",
            "_view_count": null,
            "_view_module": "@jupyter-widgets/controls",
            "_view_module_version": "1.5.0",
            "_view_name": "HTMLView",
            "description": "",
            "description_tooltip": null,
            "layout": "IPY_MODEL_9d78d84966664f45abc763e40f83c0da",
            "placeholder": "​",
            "style": "IPY_MODEL_155b44d792e84450b468173c5a696d17",
            "value": " 1648877/1648877 [00:00&lt;00:00, 45126104.50it/s]"
          }
        },
        "71a025d7f56541e89dc76a3124bfb03d": {
          "model_module": "@jupyter-widgets/base",
          "model_name": "LayoutModel",
          "model_module_version": "1.2.0",
          "state": {
            "_model_module": "@jupyter-widgets/base",
            "_model_module_version": "1.2.0",
            "_model_name": "LayoutModel",
            "_view_count": null,
            "_view_module": "@jupyter-widgets/base",
            "_view_module_version": "1.2.0",
            "_view_name": "LayoutView",
            "align_content": null,
            "align_items": null,
            "align_self": null,
            "border": null,
            "bottom": null,
            "display": null,
            "flex": null,
            "flex_flow": null,
            "grid_area": null,
            "grid_auto_columns": null,
            "grid_auto_flow": null,
            "grid_auto_rows": null,
            "grid_column": null,
            "grid_gap": null,
            "grid_row": null,
            "grid_template_areas": null,
            "grid_template_columns": null,
            "grid_template_rows": null,
            "height": null,
            "justify_content": null,
            "justify_items": null,
            "left": null,
            "margin": null,
            "max_height": null,
            "max_width": null,
            "min_height": null,
            "min_width": null,
            "object_fit": null,
            "object_position": null,
            "order": null,
            "overflow": null,
            "overflow_x": null,
            "overflow_y": null,
            "padding": null,
            "right": null,
            "top": null,
            "visibility": null,
            "width": null
          }
        },
        "e3efd163491442349061def0e2b976e4": {
          "model_module": "@jupyter-widgets/base",
          "model_name": "LayoutModel",
          "model_module_version": "1.2.0",
          "state": {
            "_model_module": "@jupyter-widgets/base",
            "_model_module_version": "1.2.0",
            "_model_name": "LayoutModel",
            "_view_count": null,
            "_view_module": "@jupyter-widgets/base",
            "_view_module_version": "1.2.0",
            "_view_name": "LayoutView",
            "align_content": null,
            "align_items": null,
            "align_self": null,
            "border": null,
            "bottom": null,
            "display": null,
            "flex": null,
            "flex_flow": null,
            "grid_area": null,
            "grid_auto_columns": null,
            "grid_auto_flow": null,
            "grid_auto_rows": null,
            "grid_column": null,
            "grid_gap": null,
            "grid_row": null,
            "grid_template_areas": null,
            "grid_template_columns": null,
            "grid_template_rows": null,
            "height": null,
            "justify_content": null,
            "justify_items": null,
            "left": null,
            "margin": null,
            "max_height": null,
            "max_width": null,
            "min_height": null,
            "min_width": null,
            "object_fit": null,
            "object_position": null,
            "order": null,
            "overflow": null,
            "overflow_x": null,
            "overflow_y": null,
            "padding": null,
            "right": null,
            "top": null,
            "visibility": null,
            "width": null
          }
        },
        "70dd3e041d874ecaa4d1d6affcfc6241": {
          "model_module": "@jupyter-widgets/controls",
          "model_name": "DescriptionStyleModel",
          "model_module_version": "1.5.0",
          "state": {
            "_model_module": "@jupyter-widgets/controls",
            "_model_module_version": "1.5.0",
            "_model_name": "DescriptionStyleModel",
            "_view_count": null,
            "_view_module": "@jupyter-widgets/base",
            "_view_module_version": "1.2.0",
            "_view_name": "StyleView",
            "description_width": ""
          }
        },
        "689b59cb55894e13860865789fa2fae3": {
          "model_module": "@jupyter-widgets/base",
          "model_name": "LayoutModel",
          "model_module_version": "1.2.0",
          "state": {
            "_model_module": "@jupyter-widgets/base",
            "_model_module_version": "1.2.0",
            "_model_name": "LayoutModel",
            "_view_count": null,
            "_view_module": "@jupyter-widgets/base",
            "_view_module_version": "1.2.0",
            "_view_name": "LayoutView",
            "align_content": null,
            "align_items": null,
            "align_self": null,
            "border": null,
            "bottom": null,
            "display": null,
            "flex": null,
            "flex_flow": null,
            "grid_area": null,
            "grid_auto_columns": null,
            "grid_auto_flow": null,
            "grid_auto_rows": null,
            "grid_column": null,
            "grid_gap": null,
            "grid_row": null,
            "grid_template_areas": null,
            "grid_template_columns": null,
            "grid_template_rows": null,
            "height": null,
            "justify_content": null,
            "justify_items": null,
            "left": null,
            "margin": null,
            "max_height": null,
            "max_width": null,
            "min_height": null,
            "min_width": null,
            "object_fit": null,
            "object_position": null,
            "order": null,
            "overflow": null,
            "overflow_x": null,
            "overflow_y": null,
            "padding": null,
            "right": null,
            "top": null,
            "visibility": null,
            "width": null
          }
        },
        "be30e30650c84ae8bf6c5cff0c605edf": {
          "model_module": "@jupyter-widgets/controls",
          "model_name": "ProgressStyleModel",
          "model_module_version": "1.5.0",
          "state": {
            "_model_module": "@jupyter-widgets/controls",
            "_model_module_version": "1.5.0",
            "_model_name": "ProgressStyleModel",
            "_view_count": null,
            "_view_module": "@jupyter-widgets/base",
            "_view_module_version": "1.2.0",
            "_view_name": "StyleView",
            "bar_color": null,
            "description_width": ""
          }
        },
        "9d78d84966664f45abc763e40f83c0da": {
          "model_module": "@jupyter-widgets/base",
          "model_name": "LayoutModel",
          "model_module_version": "1.2.0",
          "state": {
            "_model_module": "@jupyter-widgets/base",
            "_model_module_version": "1.2.0",
            "_model_name": "LayoutModel",
            "_view_count": null,
            "_view_module": "@jupyter-widgets/base",
            "_view_module_version": "1.2.0",
            "_view_name": "LayoutView",
            "align_content": null,
            "align_items": null,
            "align_self": null,
            "border": null,
            "bottom": null,
            "display": null,
            "flex": null,
            "flex_flow": null,
            "grid_area": null,
            "grid_auto_columns": null,
            "grid_auto_flow": null,
            "grid_auto_rows": null,
            "grid_column": null,
            "grid_gap": null,
            "grid_row": null,
            "grid_template_areas": null,
            "grid_template_columns": null,
            "grid_template_rows": null,
            "height": null,
            "justify_content": null,
            "justify_items": null,
            "left": null,
            "margin": null,
            "max_height": null,
            "max_width": null,
            "min_height": null,
            "min_width": null,
            "object_fit": null,
            "object_position": null,
            "order": null,
            "overflow": null,
            "overflow_x": null,
            "overflow_y": null,
            "padding": null,
            "right": null,
            "top": null,
            "visibility": null,
            "width": null
          }
        },
        "155b44d792e84450b468173c5a696d17": {
          "model_module": "@jupyter-widgets/controls",
          "model_name": "DescriptionStyleModel",
          "model_module_version": "1.5.0",
          "state": {
            "_model_module": "@jupyter-widgets/controls",
            "_model_module_version": "1.5.0",
            "_model_name": "DescriptionStyleModel",
            "_view_count": null,
            "_view_module": "@jupyter-widgets/base",
            "_view_module_version": "1.2.0",
            "_view_name": "StyleView",
            "description_width": ""
          }
        },
        "305444893958414a87e5e3c84472894a": {
          "model_module": "@jupyter-widgets/controls",
          "model_name": "HBoxModel",
          "model_module_version": "1.5.0",
          "state": {
            "_dom_classes": [],
            "_model_module": "@jupyter-widgets/controls",
            "_model_module_version": "1.5.0",
            "_model_name": "HBoxModel",
            "_view_count": null,
            "_view_module": "@jupyter-widgets/controls",
            "_view_module_version": "1.5.0",
            "_view_name": "HBoxView",
            "box_style": "",
            "children": [
              "IPY_MODEL_3c0dddfa1cb24daa91f78cbb1db1cfb8",
              "IPY_MODEL_4ba18df189ed4bdd87d664b25c4d5362",
              "IPY_MODEL_f89e564ae5b942cf8ad20ea340014f2e"
            ],
            "layout": "IPY_MODEL_85cc555727fa4a078e805c83957b9a0f"
          }
        },
        "3c0dddfa1cb24daa91f78cbb1db1cfb8": {
          "model_module": "@jupyter-widgets/controls",
          "model_name": "HTMLModel",
          "model_module_version": "1.5.0",
          "state": {
            "_dom_classes": [],
            "_model_module": "@jupyter-widgets/controls",
            "_model_module_version": "1.5.0",
            "_model_name": "HTMLModel",
            "_view_count": null,
            "_view_module": "@jupyter-widgets/controls",
            "_view_module_version": "1.5.0",
            "_view_name": "HTMLView",
            "description": "",
            "description_tooltip": null,
            "layout": "IPY_MODEL_19d22a2b2e2140fd8d828f41038bc3c9",
            "placeholder": "​",
            "style": "IPY_MODEL_fe96624f3ada48bc895449e8609024bb",
            "value": "100%"
          }
        },
        "4ba18df189ed4bdd87d664b25c4d5362": {
          "model_module": "@jupyter-widgets/controls",
          "model_name": "FloatProgressModel",
          "model_module_version": "1.5.0",
          "state": {
            "_dom_classes": [],
            "_model_module": "@jupyter-widgets/controls",
            "_model_module_version": "1.5.0",
            "_model_name": "FloatProgressModel",
            "_view_count": null,
            "_view_module": "@jupyter-widgets/controls",
            "_view_module_version": "1.5.0",
            "_view_name": "ProgressView",
            "bar_style": "success",
            "description": "",
            "description_tooltip": null,
            "layout": "IPY_MODEL_ef530c2eee8842b885a94428956cd90e",
            "max": 4542,
            "min": 0,
            "orientation": "horizontal",
            "style": "IPY_MODEL_d8bb99aab63342818c14083718b6f561",
            "value": 4542
          }
        },
        "f89e564ae5b942cf8ad20ea340014f2e": {
          "model_module": "@jupyter-widgets/controls",
          "model_name": "HTMLModel",
          "model_module_version": "1.5.0",
          "state": {
            "_dom_classes": [],
            "_model_module": "@jupyter-widgets/controls",
            "_model_module_version": "1.5.0",
            "_model_name": "HTMLModel",
            "_view_count": null,
            "_view_module": "@jupyter-widgets/controls",
            "_view_module_version": "1.5.0",
            "_view_name": "HTMLView",
            "description": "",
            "description_tooltip": null,
            "layout": "IPY_MODEL_647fa20ff6ba45d5ad1361ba7269c8e2",
            "placeholder": "​",
            "style": "IPY_MODEL_4bbdbab9fcc4457bab86bcc4f5016218",
            "value": " 4542/4542 [00:00&lt;00:00, 35686.11it/s]"
          }
        },
        "85cc555727fa4a078e805c83957b9a0f": {
          "model_module": "@jupyter-widgets/base",
          "model_name": "LayoutModel",
          "model_module_version": "1.2.0",
          "state": {
            "_model_module": "@jupyter-widgets/base",
            "_model_module_version": "1.2.0",
            "_model_name": "LayoutModel",
            "_view_count": null,
            "_view_module": "@jupyter-widgets/base",
            "_view_module_version": "1.2.0",
            "_view_name": "LayoutView",
            "align_content": null,
            "align_items": null,
            "align_self": null,
            "border": null,
            "bottom": null,
            "display": null,
            "flex": null,
            "flex_flow": null,
            "grid_area": null,
            "grid_auto_columns": null,
            "grid_auto_flow": null,
            "grid_auto_rows": null,
            "grid_column": null,
            "grid_gap": null,
            "grid_row": null,
            "grid_template_areas": null,
            "grid_template_columns": null,
            "grid_template_rows": null,
            "height": null,
            "justify_content": null,
            "justify_items": null,
            "left": null,
            "margin": null,
            "max_height": null,
            "max_width": null,
            "min_height": null,
            "min_width": null,
            "object_fit": null,
            "object_position": null,
            "order": null,
            "overflow": null,
            "overflow_x": null,
            "overflow_y": null,
            "padding": null,
            "right": null,
            "top": null,
            "visibility": null,
            "width": null
          }
        },
        "19d22a2b2e2140fd8d828f41038bc3c9": {
          "model_module": "@jupyter-widgets/base",
          "model_name": "LayoutModel",
          "model_module_version": "1.2.0",
          "state": {
            "_model_module": "@jupyter-widgets/base",
            "_model_module_version": "1.2.0",
            "_model_name": "LayoutModel",
            "_view_count": null,
            "_view_module": "@jupyter-widgets/base",
            "_view_module_version": "1.2.0",
            "_view_name": "LayoutView",
            "align_content": null,
            "align_items": null,
            "align_self": null,
            "border": null,
            "bottom": null,
            "display": null,
            "flex": null,
            "flex_flow": null,
            "grid_area": null,
            "grid_auto_columns": null,
            "grid_auto_flow": null,
            "grid_auto_rows": null,
            "grid_column": null,
            "grid_gap": null,
            "grid_row": null,
            "grid_template_areas": null,
            "grid_template_columns": null,
            "grid_template_rows": null,
            "height": null,
            "justify_content": null,
            "justify_items": null,
            "left": null,
            "margin": null,
            "max_height": null,
            "max_width": null,
            "min_height": null,
            "min_width": null,
            "object_fit": null,
            "object_position": null,
            "order": null,
            "overflow": null,
            "overflow_x": null,
            "overflow_y": null,
            "padding": null,
            "right": null,
            "top": null,
            "visibility": null,
            "width": null
          }
        },
        "fe96624f3ada48bc895449e8609024bb": {
          "model_module": "@jupyter-widgets/controls",
          "model_name": "DescriptionStyleModel",
          "model_module_version": "1.5.0",
          "state": {
            "_model_module": "@jupyter-widgets/controls",
            "_model_module_version": "1.5.0",
            "_model_name": "DescriptionStyleModel",
            "_view_count": null,
            "_view_module": "@jupyter-widgets/base",
            "_view_module_version": "1.2.0",
            "_view_name": "StyleView",
            "description_width": ""
          }
        },
        "ef530c2eee8842b885a94428956cd90e": {
          "model_module": "@jupyter-widgets/base",
          "model_name": "LayoutModel",
          "model_module_version": "1.2.0",
          "state": {
            "_model_module": "@jupyter-widgets/base",
            "_model_module_version": "1.2.0",
            "_model_name": "LayoutModel",
            "_view_count": null,
            "_view_module": "@jupyter-widgets/base",
            "_view_module_version": "1.2.0",
            "_view_name": "LayoutView",
            "align_content": null,
            "align_items": null,
            "align_self": null,
            "border": null,
            "bottom": null,
            "display": null,
            "flex": null,
            "flex_flow": null,
            "grid_area": null,
            "grid_auto_columns": null,
            "grid_auto_flow": null,
            "grid_auto_rows": null,
            "grid_column": null,
            "grid_gap": null,
            "grid_row": null,
            "grid_template_areas": null,
            "grid_template_columns": null,
            "grid_template_rows": null,
            "height": null,
            "justify_content": null,
            "justify_items": null,
            "left": null,
            "margin": null,
            "max_height": null,
            "max_width": null,
            "min_height": null,
            "min_width": null,
            "object_fit": null,
            "object_position": null,
            "order": null,
            "overflow": null,
            "overflow_x": null,
            "overflow_y": null,
            "padding": null,
            "right": null,
            "top": null,
            "visibility": null,
            "width": null
          }
        },
        "d8bb99aab63342818c14083718b6f561": {
          "model_module": "@jupyter-widgets/controls",
          "model_name": "ProgressStyleModel",
          "model_module_version": "1.5.0",
          "state": {
            "_model_module": "@jupyter-widgets/controls",
            "_model_module_version": "1.5.0",
            "_model_name": "ProgressStyleModel",
            "_view_count": null,
            "_view_module": "@jupyter-widgets/base",
            "_view_module_version": "1.2.0",
            "_view_name": "StyleView",
            "bar_color": null,
            "description_width": ""
          }
        },
        "647fa20ff6ba45d5ad1361ba7269c8e2": {
          "model_module": "@jupyter-widgets/base",
          "model_name": "LayoutModel",
          "model_module_version": "1.2.0",
          "state": {
            "_model_module": "@jupyter-widgets/base",
            "_model_module_version": "1.2.0",
            "_model_name": "LayoutModel",
            "_view_count": null,
            "_view_module": "@jupyter-widgets/base",
            "_view_module_version": "1.2.0",
            "_view_name": "LayoutView",
            "align_content": null,
            "align_items": null,
            "align_self": null,
            "border": null,
            "bottom": null,
            "display": null,
            "flex": null,
            "flex_flow": null,
            "grid_area": null,
            "grid_auto_columns": null,
            "grid_auto_flow": null,
            "grid_auto_rows": null,
            "grid_column": null,
            "grid_gap": null,
            "grid_row": null,
            "grid_template_areas": null,
            "grid_template_columns": null,
            "grid_template_rows": null,
            "height": null,
            "justify_content": null,
            "justify_items": null,
            "left": null,
            "margin": null,
            "max_height": null,
            "max_width": null,
            "min_height": null,
            "min_width": null,
            "object_fit": null,
            "object_position": null,
            "order": null,
            "overflow": null,
            "overflow_x": null,
            "overflow_y": null,
            "padding": null,
            "right": null,
            "top": null,
            "visibility": null,
            "width": null
          }
        },
        "4bbdbab9fcc4457bab86bcc4f5016218": {
          "model_module": "@jupyter-widgets/controls",
          "model_name": "DescriptionStyleModel",
          "model_module_version": "1.5.0",
          "state": {
            "_model_module": "@jupyter-widgets/controls",
            "_model_module_version": "1.5.0",
            "_model_name": "DescriptionStyleModel",
            "_view_count": null,
            "_view_module": "@jupyter-widgets/base",
            "_view_module_version": "1.2.0",
            "_view_name": "StyleView",
            "description_width": ""
          }
        }
      }
    }
  },
  "cells": [
    {
      "cell_type": "code",
      "execution_count": 2,
      "metadata": {
        "colab": {
          "base_uri": "https://localhost:8080/"
        },
        "id": "QRKKNfSMxOn1",
        "outputId": "485f51ee-e9af-4495-d7f7-970b5219613c"
      },
      "outputs": [
        {
          "output_type": "execute_result",
          "data": {
            "text/plain": [
              "<torch._C.Generator at 0x7f7116bb2f50>"
            ]
          },
          "metadata": {},
          "execution_count": 2
        }
      ],
      "source": [
        "import torch\n",
        "import torch.nn as nn\n",
        "import torch.nn.functional as F\n",
        "import torch.optim as optim\n",
        "\n",
        "import numpy as np\n",
        "from torchvision import datasets,transforms\n",
        "import matplotlib.pyplot as plt\n",
        "\n",
        "seed=42\n",
        "torch.manual_seed(seed)"
      ]
    },
    {
      "cell_type": "markdown",
      "source": [
        "### Target\n",
        "1. Get the setup\n",
        "2. Set Transforms\n",
        "3. Set the Data Loader\n",
        "4. Set the skeleton right\n",
        "5. Set Training and testing loop\n",
        "6. Results:\n",
        "\n"
      ],
      "metadata": {
        "id": "HhVbYpyjyHhR"
      }
    },
    {
      "cell_type": "markdown",
      "source": [
        "## Data Transformations\n",
        "\n",
        "We first start with defining our data transformations. We need to think what our data is and how can we augment it to correct represent images which it might not see otherwise. \n",
        "\n",
        "Here is the list of all the transformations which come pre-built with PyTorch\n",
        "\n",
        "1.   Compose\n",
        "2.   ToTensor\n",
        "3.   ToPILImage\n",
        "4. Normalize\n",
        "5. Resize\n",
        "6. Scale\n",
        "7. CenterCrop\n",
        "8. Pad\n",
        "9. Lambda\n",
        "10. RandomApply\n",
        "11. RandomChoice\n",
        "12. RandomOrder\n",
        "13. RandomCrop\n",
        "14. RandomHorizontalFlip\n",
        "15. RandomVerticalFlip\n",
        "16. RandomResizedCrop\n",
        "17. RandomSizedCrop\n",
        "18. FiveCrop\n",
        "19. TenCrop\n",
        "20. LinearTransformation\n",
        "21. ColorJitter\n",
        "22. RandomRotation\n",
        "23. RandomAffine\n",
        "24. Grayscale\n",
        "25. RandomGrayscale\n",
        "26. RandomPerspective\n",
        "27. RandomErasing\n",
        "\n",
        "You can read more about them [here](https://pytorch.org/docs/stable/_modules/torchvision/transforms/transforms.html)"
      ],
      "metadata": {
        "id": "ZV3kTq8VysKZ"
      }
    },
    {
      "cell_type": "code",
      "source": [
        "## Train Phase transformation\n",
        "train_transforms=transforms.Compose([transforms.ToTensor(),\n",
        "                                     transforms.Normalize((0.1307,),(0.3081,))])\n",
        "\n",
        "test_transforms=transforms.Compose([transforms.ToTensor(),\n",
        "                                    transforms.Normalize((0.1307,),(0.3081,))])"
      ],
      "metadata": {
        "id": "AZB4290lALFU"
      },
      "execution_count": 3,
      "outputs": []
    },
    {
      "cell_type": "markdown",
      "source": [
        "## Get the Dataset and create train and test split\n"
      ],
      "metadata": {
        "id": "0ZkGITSxwh9w"
      }
    },
    {
      "cell_type": "code",
      "source": [
        "train_set= datasets.MNIST(root=\"./data\",train=True,download=True,transform=train_transforms)\n",
        "\n",
        "test_set= datasets.MNIST(root=\"./data\",train=False,download=True,transform=test_transforms)"
      ],
      "metadata": {
        "id": "22rJYpxfzhWU",
        "colab": {
          "base_uri": "https://localhost:8080/",
          "height": 430,
          "referenced_widgets": [
            "a183250b284b4d1fb055e0d2d28faf73",
            "37853f7870034fccb6b2d4ba8dde09dd",
            "010a4e0daef14612b4ec2a9e612fab5e",
            "427e6c000d6a4572943b391e1c81ca49",
            "4b48f65ab86448628eedd6afd1faf2a6",
            "bd9c92c749aa4f69aea59bd1416e5644",
            "dcdad2f069ce4b118986c23281113536",
            "9a71890ddd60400d99452501a91261d8",
            "dc04076d81f245b084a01958db4d803d",
            "944d8afeddbd434684ea309e6d2cf8be",
            "da75ebe6b5904eef8e3a5c8d51b095e1",
            "ce379d9232ad4d889dd457a48f095694",
            "f30b4e01d5b54faf8d97b8086cba8254",
            "eae3bf5c64084d5ea02da4f10f7d0272",
            "3fbb5c9877444f1794575b20d80a8fbe",
            "8e062f3660714e00bf2b029c01530abe",
            "afb45f90d5ea49cebc38d1ba2edbd859",
            "2f32250db57b48348e08fc786d67e0c1",
            "164758b7bec7497e8be21f42a391cb84",
            "63bced0f09c349688b4312dde6c21df6",
            "946e213ce0064759aef33cd63a5ed0c3",
            "a9d0fbf980234b859340d654eaa61716",
            "43bdb5eb23584151a405a4f86a360680",
            "6bf9fa53c6424627a83414cf4a3b5f5a",
            "1884315a30d540f7a62c4addcaaa70e9",
            "0c543e6d80024726ad51ac877c9f19fd",
            "71a025d7f56541e89dc76a3124bfb03d",
            "e3efd163491442349061def0e2b976e4",
            "70dd3e041d874ecaa4d1d6affcfc6241",
            "689b59cb55894e13860865789fa2fae3",
            "be30e30650c84ae8bf6c5cff0c605edf",
            "9d78d84966664f45abc763e40f83c0da",
            "155b44d792e84450b468173c5a696d17",
            "305444893958414a87e5e3c84472894a",
            "3c0dddfa1cb24daa91f78cbb1db1cfb8",
            "4ba18df189ed4bdd87d664b25c4d5362",
            "f89e564ae5b942cf8ad20ea340014f2e",
            "85cc555727fa4a078e805c83957b9a0f",
            "19d22a2b2e2140fd8d828f41038bc3c9",
            "fe96624f3ada48bc895449e8609024bb",
            "ef530c2eee8842b885a94428956cd90e",
            "d8bb99aab63342818c14083718b6f561",
            "647fa20ff6ba45d5ad1361ba7269c8e2",
            "4bbdbab9fcc4457bab86bcc4f5016218"
          ]
        },
        "outputId": "c810b544-816b-423a-ccdd-c393f9c00f41"
      },
      "execution_count": 4,
      "outputs": [
        {
          "output_type": "stream",
          "name": "stdout",
          "text": [
            "Downloading http://yann.lecun.com/exdb/mnist/train-images-idx3-ubyte.gz\n",
            "Downloading http://yann.lecun.com/exdb/mnist/train-images-idx3-ubyte.gz to ./data/MNIST/raw/train-images-idx3-ubyte.gz\n"
          ]
        },
        {
          "output_type": "display_data",
          "data": {
            "text/plain": [
              "  0%|          | 0/9912422 [00:00<?, ?it/s]"
            ],
            "application/vnd.jupyter.widget-view+json": {
              "version_major": 2,
              "version_minor": 0,
              "model_id": "a183250b284b4d1fb055e0d2d28faf73"
            }
          },
          "metadata": {}
        },
        {
          "output_type": "stream",
          "name": "stdout",
          "text": [
            "Extracting ./data/MNIST/raw/train-images-idx3-ubyte.gz to ./data/MNIST/raw\n",
            "\n",
            "Downloading http://yann.lecun.com/exdb/mnist/train-labels-idx1-ubyte.gz\n",
            "Downloading http://yann.lecun.com/exdb/mnist/train-labels-idx1-ubyte.gz to ./data/MNIST/raw/train-labels-idx1-ubyte.gz\n"
          ]
        },
        {
          "output_type": "display_data",
          "data": {
            "text/plain": [
              "  0%|          | 0/28881 [00:00<?, ?it/s]"
            ],
            "application/vnd.jupyter.widget-view+json": {
              "version_major": 2,
              "version_minor": 0,
              "model_id": "ce379d9232ad4d889dd457a48f095694"
            }
          },
          "metadata": {}
        },
        {
          "output_type": "stream",
          "name": "stdout",
          "text": [
            "Extracting ./data/MNIST/raw/train-labels-idx1-ubyte.gz to ./data/MNIST/raw\n",
            "\n",
            "Downloading http://yann.lecun.com/exdb/mnist/t10k-images-idx3-ubyte.gz\n",
            "Downloading http://yann.lecun.com/exdb/mnist/t10k-images-idx3-ubyte.gz to ./data/MNIST/raw/t10k-images-idx3-ubyte.gz\n"
          ]
        },
        {
          "output_type": "display_data",
          "data": {
            "text/plain": [
              "  0%|          | 0/1648877 [00:00<?, ?it/s]"
            ],
            "application/vnd.jupyter.widget-view+json": {
              "version_major": 2,
              "version_minor": 0,
              "model_id": "43bdb5eb23584151a405a4f86a360680"
            }
          },
          "metadata": {}
        },
        {
          "output_type": "stream",
          "name": "stdout",
          "text": [
            "Extracting ./data/MNIST/raw/t10k-images-idx3-ubyte.gz to ./data/MNIST/raw\n",
            "\n",
            "Downloading http://yann.lecun.com/exdb/mnist/t10k-labels-idx1-ubyte.gz\n",
            "Downloading http://yann.lecun.com/exdb/mnist/t10k-labels-idx1-ubyte.gz to ./data/MNIST/raw/t10k-labels-idx1-ubyte.gz\n"
          ]
        },
        {
          "output_type": "display_data",
          "data": {
            "text/plain": [
              "  0%|          | 0/4542 [00:00<?, ?it/s]"
            ],
            "application/vnd.jupyter.widget-view+json": {
              "version_major": 2,
              "version_minor": 0,
              "model_id": "305444893958414a87e5e3c84472894a"
            }
          },
          "metadata": {}
        },
        {
          "output_type": "stream",
          "name": "stdout",
          "text": [
            "Extracting ./data/MNIST/raw/t10k-labels-idx1-ubyte.gz to ./data/MNIST/raw\n",
            "\n"
          ]
        }
      ]
    },
    {
      "cell_type": "markdown",
      "source": [
        "### Data Loader Arguments & Test and Train Arguments"
      ],
      "metadata": {
        "id": "7XACNl5xBNRU"
      }
    },
    {
      "cell_type": "code",
      "source": [
        "# CUDA?\n",
        "is_cuda= torch.cuda.is_available()\n",
        "print(\"CUDA Available?\",is_cuda)\n",
        "\n",
        " #for Reproduciability\n",
        "torch.manual_seed(seed)\n",
        "\n",
        "\n",
        "if is_cuda:\n",
        "  torch.cuda.manual_seed(seed)\n",
        "\n",
        "# Data Loader Arguments - something you will fetch these from Command Prompt \n",
        "dataloader_args=dict(shuffle=True,batch_size=128,num_workers=4,pin_memory=True) if is_cuda else dict(shuffle=True,batch_size=64)\n",
        "\n",
        "# train loader \n",
        "train_loader=torch.utils.data.DataLoader(train_set,**dataloader_args)\n",
        "test_loader= torch.utils.data.DataLoader(test_set,**dataloader_args)"
      ],
      "metadata": {
        "colab": {
          "base_uri": "https://localhost:8080/"
        },
        "id": "PXtiXoamBTat",
        "outputId": "705f05d7-239d-4c58-f90f-056f79bb87f3"
      },
      "execution_count": 5,
      "outputs": [
        {
          "output_type": "stream",
          "name": "stdout",
          "text": [
            "CUDA Available? True\n"
          ]
        },
        {
          "output_type": "stream",
          "name": "stderr",
          "text": [
            "/usr/local/lib/python3.8/dist-packages/torch/utils/data/dataloader.py:554: UserWarning: This DataLoader will create 4 worker processes in total. Our suggested max number of worker in current system is 2, which is smaller than what this DataLoader is going to create. Please be aware that excessive worker creation might get DataLoader running slow or even freeze, lower the worker number to avoid potential slowness/freeze if necessary.\n",
            "  warnings.warn(_create_warning_msg(\n"
          ]
        }
      ]
    },
    {
      "cell_type": "code",
      "source": [
        "### Data Statistics\n",
        "train_data=train_set.transform(train_set.data.cpu().numpy())\n",
        "print(\"-Numpy Shape:\",train_data.numpy().shape)\n",
        "print(\"-Tensor Shape \",train_data.shape)\n",
        "print(' - min:', torch.min(train_data))\n",
        "print(' - max:', torch.max(train_data))\n",
        "print(' - mean:', torch.mean(train_data))\n",
        "print(' - std:', torch.std(train_data))\n",
        "print(' - var:', torch.var(train_data))"
      ],
      "metadata": {
        "colab": {
          "base_uri": "https://localhost:8080/"
        },
        "id": "6arkbnobFlJ2",
        "outputId": "f4d4119b-ae94-4aa6-add4-76f9abeef41d"
      },
      "execution_count": 6,
      "outputs": [
        {
          "output_type": "stream",
          "name": "stdout",
          "text": [
            "-Numpy Shape: (28, 60000, 28)\n",
            "-Tensor Shape  torch.Size([28, 60000, 28])\n",
            " - min: tensor(-0.4242)\n",
            " - max: tensor(2.8215)\n",
            " - mean: tensor(-0.0001)\n",
            " - std: tensor(1.0000)\n",
            " - var: tensor(1.0001)\n"
          ]
        }
      ]
    },
    {
      "cell_type": "code",
      "source": [
        "images,labels= next(iter(train_loader))\n",
        "print(\"One batch:\",images.shape)\n",
        "print(\"Targets of one batch:\",labels.shape)\n",
        "\n",
        "plt.imshow(images[0].numpy().squeeze(),cmap=\"gray_r\");"
      ],
      "metadata": {
        "colab": {
          "base_uri": "https://localhost:8080/",
          "height": 301
        },
        "id": "4Jq84X3RIISZ",
        "outputId": "dac4591d-9d31-4224-ddec-b7be8115302d"
      },
      "execution_count": 7,
      "outputs": [
        {
          "output_type": "stream",
          "name": "stdout",
          "text": [
            "One batch: torch.Size([128, 1, 28, 28])\n",
            "Targets of one batch: torch.Size([128])\n"
          ]
        },
        {
          "output_type": "display_data",
          "data": {
            "text/plain": [
              "<Figure size 432x288 with 1 Axes>"
            ],
            "image/png": "[encoded data removed]"
          },
          "metadata": {
            "needs_background": "light"
          }
        }
      ]
    },
    {
      "cell_type": "markdown",
      "source": [
        "### Illustration of transforms"
      ],
      "metadata": {
        "id": "XeDVkNnI4HPM"
      }
    },
    {
      "cell_type": "code",
      "source": [
        "original_img= images[0]"
      ],
      "metadata": {
        "id": "AY7tJ-cS4M11"
      },
      "execution_count": 8,
      "outputs": []
    },
    {
      "cell_type": "code",
      "source": [
        "plt.imshow(original_img.squeeze(),cmap=\"gray_r\");"
      ],
      "metadata": {
        "colab": {
          "base_uri": "https://localhost:8080/",
          "height": 265
        },
        "id": "U3UCxabx4-HB",
        "outputId": "dabc86d5-980d-45b9-fb5f-1d860c365efc"
      },
      "execution_count": 9,
      "outputs": [
        {
          "output_type": "display_data",
          "data": {
            "text/plain": [
              "<Figure size 432x288 with 1 Axes>"
            ],
            "image/png": "[encoded data removed]"
          },
          "metadata": {
            "needs_background": "light"
          }
        }
      ]
    },
    {
      "cell_type": "code",
      "source": [
        "## Create a function to plot the transformed image\n",
        "\n",
        "def plot(imgs, with_orig=True,row_title=None,**imshow_kwargs):\n",
        "  if not isinstance(imgs[0],list):\n",
        "    # make a 2d grid even if there is just 1 row\n",
        "    imgs=[imgs]\n",
        "  \n",
        "  num_rows=len(imgs)\n",
        "  num_cols= len(imgs[0])+with_orig\n",
        "  \n",
        "  fig,axes=plt.subplots(nrows=num_rows,ncols=num_cols,figsize=(12,12),squeeze=False)\n",
        "  for row_idx,row in enumerate(imgs):    \n",
        "    row= [original_img]+row if with_orig else row\n",
        "\n",
        "    for col_idx,img in enumerate(row):     \n",
        "      ax=axes[row_idx,col_idx]\n",
        "      ax.imshow(img.squeeze(),** imshow_kwargs)\n",
        "      ax.set(xticklabels=[], yticklabels=[], xticks=[], yticks=[])\n",
        "\n",
        "  if with_orig:\n",
        "      axes[0, 0].set(title='Original image')\n",
        "      axes[0, 0].title.set_size(10)\n",
        "  if row_title is not None:\n",
        "      for row_idx in range(num_cols):\n",
        "          axes[0,row_idx].set(ylabel=row_title[row_idx])\n",
        "\n",
        "  plt.tight_layout()\n",
        "\n",
        "\n"
      ],
      "metadata": {
        "id": "smmTw70G4M3u"
      },
      "execution_count": 10,
      "outputs": []
    },
    {
      "cell_type": "code",
      "source": [
        "## Pad\n",
        "padded_imgs= [transforms.Pad(padding=padding)(original_img) for padding in [3,10,30,50]]\n",
        "plot(padded_imgs,row_title=[\" \",\"pad=3\",\"pad=10\",\"pad=30\",\"pad=50\"])"
      ],
      "metadata": {
        "colab": {
          "base_uri": "https://localhost:8080/",
          "height": 194
        },
        "id": "172jiaHZ7h-I",
        "outputId": "68001486-5b9c-40cc-dab9-e3614816fdf6"
      },
      "execution_count": 11,
      "outputs": [
        {
          "output_type": "display_data",
          "data": {
            "text/plain": [
              "<Figure size 864x864 with 5 Axes>"
            ],
            "image/png": "[encoded data removed]"
          },
          "metadata": {}
        }
      ]
    },
    {
      "cell_type": "code",
      "source": [
        "## Resize\n",
        "resized_img= [transforms.Resize(size=size)(original_img) for size in (30,50,100,original_img.size()[-1])]\n",
        "plot(resized_img)"
      ],
      "metadata": {
        "colab": {
          "base_uri": "https://localhost:8080/",
          "height": 205
        },
        "id": "2xsmWxxaJKnL",
        "outputId": "b1058afc-2a73-408e-ead8-59129e068c74"
      },
      "execution_count": 12,
      "outputs": [
        {
          "output_type": "display_data",
          "data": {
            "text/plain": [
              "<Figure size 864x864 with 5 Axes>"
            ],
            "image/png": "[encoded data removed]"
          },
          "metadata": {}
        }
      ]
    },
    {
      "cell_type": "code",
      "source": [
        "# RandomCrop\n",
        "random_crop= transforms.RandomCrop(size=(20,20))\n",
        "crops=[random_crop(original_img) for _ in range(4)]\n",
        "plot(crops)"
      ],
      "metadata": {
        "colab": {
          "base_uri": "https://localhost:8080/",
          "height": 205
        },
        "id": "COjh0l_FRmeC",
        "outputId": "e35e1c17-6c57-4a1b-d507-1a5137cd02ba"
      },
      "execution_count": 13,
      "outputs": [
        {
          "output_type": "display_data",
          "data": {
            "text/plain": [
              "<Figure size 864x864 with 5 Axes>"
            ],
            "image/png": "[encoded data removed]"
          },
          "metadata": {}
        }
      ]
    },
    {
      "cell_type": "code",
      "source": [
        "## FiveCrop\n",
        "(top_left, top_right, bottom_left, bottom_right, center) = transforms.FiveCrop(size=(20, 20))(original_img)\n",
        "plot([top_left, top_right, bottom_left, bottom_right, center])"
      ],
      "metadata": {
        "colab": {
          "base_uri": "https://localhost:8080/",
          "height": 176
        },
        "id": "h_cduCSxKlWK",
        "outputId": "5e764d6b-443b-46e4-e68e-5bb68b9c7935"
      },
      "execution_count": 14,
      "outputs": [
        {
          "output_type": "display_data",
          "data": {
            "text/plain": [
              "<Figure size 864x864 with 6 Axes>"
            ],
            "image/png": "[encoded data removed]"
          },
          "metadata": {}
        }
      ]
    },
    {
      "cell_type": "code",
      "source": [
        "affine_transfomer = transforms.RandomAffine(degrees=(30, 60), translate=(0.1, 0.3), scale=(0.5, 0.75))\n",
        "affine_imgs = [affine_transfomer(original_img) for _ in range(4)]\n",
        "plot(affine_imgs)"
      ],
      "metadata": {
        "colab": {
          "base_uri": "https://localhost:8080/",
          "height": 205
        },
        "id": "o-UXGj3lTWkd",
        "outputId": "0c8da3d1-1460-48dd-c8d0-d980ac4f138f"
      },
      "execution_count": 15,
      "outputs": [
        {
          "output_type": "display_data",
          "data": {
            "text/plain": [
              "<Figure size 864x864 with 5 Axes>"
            ],
            "image/png": "[encoded data removed]"
          },
          "metadata": {}
        }
      ]
    },
    {
      "cell_type": "markdown",
      "source": [
        "## Random Transformations : RandomPerspective\n",
        " means that the same transfomer instance will produce different result each time it transforms a given image.\n"
      ],
      "metadata": {
        "id": "UBoedyqWLqzn"
      }
    },
    {
      "cell_type": "code",
      "source": [
        "perspective_transformer = transforms.RandomPerspective(distortion_scale=0.6, p=1.0)\n",
        "perspective_imgs = [perspective_transformer(original_img) for _ in range(4)]\n",
        "plot(perspective_imgs)"
      ],
      "metadata": {
        "colab": {
          "base_uri": "https://localhost:8080/",
          "height": 205
        },
        "id": "KkVYv_2fMRNz",
        "outputId": "e8e78011-558b-4590-db96-277efe5b0da3"
      },
      "execution_count": 16,
      "outputs": [
        {
          "output_type": "display_data",
          "data": {
            "text/plain": [
              "<Figure size 864x864 with 5 Axes>"
            ],
            "image/png": "[encoded data removed]"
          },
          "metadata": {}
        }
      ]
    },
    {
      "cell_type": "code",
      "source": [
        "# RandomRotation\n",
        "rotater = transforms.RandomRotation(degrees=(0, 90))\n",
        "rotated_imgs = [rotater(original_img) for _ in range(4)]\n",
        "plot(rotated_imgs)"
      ],
      "metadata": {
        "colab": {
          "base_uri": "https://localhost:8080/",
          "height": 205
        },
        "id": "T_eR8xgCMciy",
        "outputId": "b2a5076e-d2a6-4e15-9c22-4c49b8c5cb45"
      },
      "execution_count": 17,
      "outputs": [
        {
          "output_type": "display_data",
          "data": {
            "text/plain": [
              "<Figure size 864x864 with 5 Axes>"
            ],
            "image/png": "[encoded data removed]"
          },
          "metadata": {}
        }
      ]
    },
    {
      "cell_type": "code",
      "source": [
        "# RandomHorizontalFlip\n",
        "# Some transforms are randomly-applied given a probability p. That is, the transformed image may actually be the same as the original one, \n",
        "# even when called with the same transformer instance!\n",
        "hflipper = transforms.RandomHorizontalFlip(p=0.5)\n",
        "transformed_imgs = [hflipper(original_img) for _ in range(4)]\n",
        "plot(transformed_imgs)"
      ],
      "metadata": {
        "colab": {
          "base_uri": "https://localhost:8080/",
          "height": 205
        },
        "id": "yXR800qpMm7O",
        "outputId": "c1497e1d-8866-431a-99b2-89b8b0ae9dd7"
      },
      "execution_count": 18,
      "outputs": [
        {
          "output_type": "display_data",
          "data": {
            "text/plain": [
              "<Figure size 864x864 with 5 Axes>"
            ],
            "image/png": "[encoded data removed]"
          },
          "metadata": {}
        }
      ]
    },
    {
      "cell_type": "code",
      "source": [
        "vflipper = transforms.RandomVerticalFlip(p=0.5)\n",
        "transformed_imgs = [vflipper(original_img) for _ in range(4)]\n",
        "plot(transformed_imgs)"
      ],
      "metadata": {
        "colab": {
          "base_uri": "https://localhost:8080/",
          "height": 205
        },
        "id": "hbQm-YBkRMng",
        "outputId": "44be80b2-ded6-48bb-8b5a-6d6d0ffeb148"
      },
      "execution_count": 19,
      "outputs": [
        {
          "output_type": "display_data",
          "data": {
            "text/plain": [
              "<Figure size 864x864 with 5 Axes>"
            ],
            "image/png": "[encoded data removed]"
          },
          "metadata": {}
        }
      ]
    },
    {
      "cell_type": "markdown",
      "source": [
        "### Lets get the Data again with some transforms discussed above. We will use this data for training\n",
        "The PyTorch torchvision library provides us with an MNIST dataset, which downloads the data and provides it in a readily-usable format. Let's use the dataset MNIST function to pull the dataset to our local machine, and then wrap it around a DataLoader. We will use torchvision transformations to convert the data into PyTorch tensors and do data normalization. The following code takes care of downloading, wrapping around the DataLoader and normalizing the data:\n",
        "\n",
        "**Steps**\n",
        "1. Initialize transformation\n",
        "2. Load the data from torchvision dataset\n",
        "3. Create a dataloader using the data from above step\n"
      ],
      "metadata": {
        "id": "7dZnHeaVRU7E"
      }
    },
    {
      "cell_type": "code",
      "source": [
        "train_transforms=transforms.Compose([transforms.ToTensor(),\n",
        "                                     transforms.Normalize((0.1307,), (0.3081,))\n",
        "                                    #  transforms.RandomVerticalFlip(p=0.5),\n",
        "                                    #  transforms.RandomHorizontalFlip(p=0.5),\n",
        "                                    #  transforms.RandomAffine(degrees=(30, 60), translate=(0.1, 0.3), scale=(0.5, 0.75)),\n",
        "                                    #  transforms.FiveCrop(size=(20, 20)),\n",
        "                                    #  transforms.Resize(size=20)\n",
        "                                     ])\n",
        "\n",
        "test_transforms=transforms.Compose([transforms.ToTensor(),\n",
        "                                     transforms.Normalize((0.1307,), (0.3081,))\n",
        "                                    #  transforms.RandomVerticalFlip(p=0.5),\n",
        "                                    #  transforms.RandomHorizontalFlip(p=0.5),\n",
        "                                    #  transforms.RandomAffine(degrees=(30, 60), translate=(0.1, 0.3), scale=(0.5, 0.75)),\n",
        "                                    #  transforms.FiveCrop(size=(20, 20)),\n",
        "                                    #  transforms.Resize(size=20)\n",
        "                                     ])                                    "
      ],
      "metadata": {
        "id": "Fbmw7k3FTzi1"
      },
      "execution_count": 20,
      "outputs": []
    },
    {
      "cell_type": "code",
      "source": [
        "# get train_set\n",
        "train_set= datasets.MNIST(root=\"./data\",train=True,download=True,transform=train_transforms)\n",
        "test_set= datasets.MNIST(root=\"./data\",train=False,download=True,transform=test_transforms)"
      ],
      "metadata": {
        "id": "ILN_J5ryU9G-"
      },
      "execution_count": 21,
      "outputs": []
    },
    {
      "cell_type": "code",
      "source": [
        "# Create dataLoaders\n",
        "train_loaders=torch.utils.data.DataLoader(train_set,**dataloader_args)\n",
        "test_loaders=torch.utils.data.DataLoader(test_set,**dataloader_args)"
      ],
      "metadata": {
        "id": "gUtOR2iSWsTx"
      },
      "execution_count": 22,
      "outputs": []
    },
    {
      "cell_type": "code",
      "source": [
        "# lets visualize some more images\n",
        "images,labels= next(iter(train_loader))\n",
        "num_of_images=60\n",
        "for index in range(1,num_of_images+1):\n",
        "  plt.subplot(6, 10, index)\n",
        "  plt.axis('off')\n",
        "  plt.imshow(images[index].numpy().squeeze(), cmap='gray_r')\n"
      ],
      "metadata": {
        "colab": {
          "base_uri": "https://localhost:8080/",
          "height": 246
        },
        "id": "J26WKiaKW2je",
        "outputId": "9cacd5b2-7e20-43fc-fa0e-91a45a0c5561"
      },
      "execution_count": 23,
      "outputs": [
        {
          "output_type": "display_data",
          "data": {
            "text/plain": [
              "<Figure size 432x288 with 60 Axes>"
            ],
            "image/png": "[encoded data removed]"
          },
          "metadata": {
            "needs_background": "light"
          }
        }
      ]
    },
    {
      "cell_type": "markdown",
      "source": [
        "## The Model\n",
        "- Target:\n",
        "        Add Batch Norm, Regularization, Dropout\n",
        "- Results:\n",
        "        Parameters: 8,070\n",
        "        Best Train Accuracy: 99.22 (20th Epoch) \n",
        "        Best Test Accuracy: 99.13\n",
        "- Analysis:\n",
        "        Regularization working. \n",
        "        But with the current capacity, not possible to push it further. \n",
        "        Dropout is not working it seems, but at the same time there is very less difference between training and test accuracy which is desirable. \n",
        "        parameters are less than 9k\n"
      ],
      "metadata": {
        "id": "UMaePoIdXyjW"
      }
    },
    {
      "cell_type": "code",
      "source": [
        "class Net(nn.Module):\n",
        "  def __init__(self):\n",
        "    super(Net,self).__init__()\n",
        "\n",
        "    # Input Block\n",
        "    self.convblock1= nn.Sequential(\n",
        "        nn.Conv2d(in_channels=1,out_channels=10,kernel_size=(7,7),padding=0,bias=False),        \n",
        "        nn.ReLU(),\n",
        "        nn.BatchNorm2d(10)\n",
        "        ) # output_size=26 | 3\n",
        "\n",
        "    # CONVOLUTION BLOCK 1\n",
        "    self.convblock2= nn.Sequential(\n",
        "        nn.Conv2d(in_channels=10,out_channels=10,kernel_size=(3,3),padding=0,bias=False),\n",
        "        nn.ReLU(),\n",
        "        nn.BatchNorm2d(10)\n",
        "    ) # output_size=24 | 5\n",
        "\n",
        "    self.convblock3= nn.Sequential(\n",
        "        nn.Conv2d(in_channels=10,out_channels=10,kernel_size=(3,3),padding=0,bias=False),\n",
        "        nn.ReLU(),\n",
        "        nn.BatchNorm2d(10)\n",
        "    ) # output_size=22 | 7\n",
        "\n",
        "    # TRANSITION BLOCK 1\n",
        "    self.pool1= nn.MaxPool2d(2,2) # output_size=11 | 14\n",
        "    self.convblock4= nn.Sequential(\n",
        "        nn.Conv2d(in_channels=10,out_channels=20,kernel_size=(3,3),padding=0,bias=False),\n",
        "        nn.ReLU(),\n",
        "        nn.BatchNorm2d(20)\n",
        "    ) # output_size= 11 | 16\n",
        "\n",
        "    # CONVOLUTION BLOCK 2\n",
        "    self.convblock5= nn.Sequential(\n",
        "        nn.Conv2d(in_channels=20,out_channels=10,kernel_size=(3,3),padding=0,bias=False),\n",
        "        nn.ReLU(),\n",
        "        nn.BatchNorm2d(10)\n",
        "    ) # output_size=9 | 18\n",
        "    self.convblock6= nn.Sequential(\n",
        "        nn.Conv2d(in_channels=10,out_channels=20,kernel_size=(1,1),padding=0,bias=False),\n",
        "        nn.ReLU(),\n",
        "        nn.BatchNorm2d(20)\n",
        "    ) # output_size=7 |20\n",
        "\n",
        "    # OUTPUT BLOCK \n",
        "    self.convblock7 = nn.Sequential(\n",
        "        nn.Conv2d(in_channels=20,out_channels=10,kernel_size=(3,3),padding=0,bias=False),\n",
        "        nn.ReLU(),\n",
        "        nn.BatchNorm2d(10) \n",
        "    ) # output_size= 7 | 20\n",
        "    self.gap = nn.Sequential(\n",
        "            nn.AvgPool2d(kernel_size=3)\n",
        "        ) # output_size = 1\n",
        "\n",
        "    self.dropout = nn.Dropout(0.25)\n",
        "\n",
        "  def forward(self,x):\n",
        "    x= self.convblock1(x)\n",
        "    x= self.convblock2(x)\n",
        "    x= self.convblock3(x)\n",
        "    x= self.dropout(x)\n",
        "    x= self.pool1(x)\n",
        "    x= self.convblock4(x)\n",
        "    x= self.convblock5(x)\n",
        "    x= self.convblock6(x)\n",
        "    x = self.dropout(x)\n",
        "    x= self.convblock7(x)\n",
        "    x = self.gap(x)\n",
        "    x= x.view(-1,10)\n",
        "    return F.log_softmax(x,dim=-1)\n",
        "\n",
        "\n",
        "\n",
        "       "
      ],
      "metadata": {
        "id": "-rLGwkQjX2Ux"
      },
      "execution_count": 26,
      "outputs": []
    },
    {
      "cell_type": "markdown",
      "source": [
        "## Model Params"
      ],
      "metadata": {
        "id": "YcOFoBRGnS9V"
      }
    },
    {
      "cell_type": "code",
      "source": [
        "# ! pip install torchsummary"
      ],
      "metadata": {
        "id": "lRjpyRSEnV4O"
      },
      "execution_count": 24,
      "outputs": []
    },
    {
      "cell_type": "code",
      "source": [
        "from torchsummary import summary\n",
        "device= torch.device(\"cuda\" if is_cuda else \"cpu\")\n",
        "model= Net().to(device)\n",
        "summary(model,input_size=(1,28,28))"
      ],
      "metadata": {
        "colab": {
          "base_uri": "https://localhost:8080/"
        },
        "id": "HRCvn_EUnasg",
        "outputId": "a652eeee-b8c0-4803-aabe-0e411b5d8a12"
      },
      "execution_count": 27,
      "outputs": [
        {
          "output_type": "stream",
          "name": "stdout",
          "text": [
            "----------------------------------------------------------------\n",
            "        Layer (type)               Output Shape         Param #\n",
            "================================================================\n",
            "            Conv2d-1           [-1, 10, 22, 22]             490\n",
            "              ReLU-2           [-1, 10, 22, 22]               0\n",
            "       BatchNorm2d-3           [-1, 10, 22, 22]              20\n",
            "            Conv2d-4           [-1, 10, 20, 20]             900\n",
            "              ReLU-5           [-1, 10, 20, 20]               0\n",
            "       BatchNorm2d-6           [-1, 10, 20, 20]              20\n",
            "            Conv2d-7           [-1, 10, 18, 18]             900\n",
            "              ReLU-8           [-1, 10, 18, 18]               0\n",
            "       BatchNorm2d-9           [-1, 10, 18, 18]              20\n",
            "          Dropout-10           [-1, 10, 18, 18]               0\n",
            "        MaxPool2d-11             [-1, 10, 9, 9]               0\n",
            "           Conv2d-12             [-1, 20, 7, 7]           1,800\n",
            "             ReLU-13             [-1, 20, 7, 7]               0\n",
            "      BatchNorm2d-14             [-1, 20, 7, 7]              40\n",
            "           Conv2d-15             [-1, 10, 5, 5]           1,800\n",
            "             ReLU-16             [-1, 10, 5, 5]               0\n",
            "      BatchNorm2d-17             [-1, 10, 5, 5]              20\n",
            "           Conv2d-18             [-1, 20, 5, 5]             200\n",
            "             ReLU-19             [-1, 20, 5, 5]               0\n",
            "      BatchNorm2d-20             [-1, 20, 5, 5]              40\n",
            "          Dropout-21             [-1, 20, 5, 5]               0\n",
            "           Conv2d-22             [-1, 10, 3, 3]           1,800\n",
            "             ReLU-23             [-1, 10, 3, 3]               0\n",
            "      BatchNorm2d-24             [-1, 10, 3, 3]              20\n",
            "        AvgPool2d-25             [-1, 10, 1, 1]               0\n",
            "================================================================\n",
            "Total params: 8,070\n",
            "Trainable params: 8,070\n",
            "Non-trainable params: 0\n",
            "----------------------------------------------------------------\n",
            "Input size (MB): 0.00\n",
            "Forward/backward pass size (MB): 0.35\n",
            "Params size (MB): 0.03\n",
            "Estimated Total Size (MB): 0.39\n",
            "----------------------------------------------------------------\n"
          ]
        }
      ]
    },
    {
      "cell_type": "markdown",
      "source": [
        "## Training and Testing\n",
        "Looking at logs can be boring, so we'll introduce **tqdm** progressbar to get cooler logs. \n",
        "\n",
        "Let's write train and test functions"
      ],
      "metadata": {
        "id": "EQCItWnzny1h"
      }
    },
    {
      "cell_type": "code",
      "source": [
        "# training block\n",
        "from tqdm import tqdm\n",
        "\n",
        "def train(data_loader,model,optimizer):\n",
        "    model.train() # set the mode(train/test)\n",
        "    progress_bar= tqdm(data_loader)\n",
        "    running_loss=0.0\n",
        "    running_correct= 0\n",
        "\n",
        "    # iterate over data- Access batch_id and images and labels\n",
        "    for batch_idx,(images,target) in enumerate(progress_bar):\n",
        "      # get samples\n",
        "      images,target= images.to(device),target.to(device)      \n",
        "      \n",
        "      # compute prediction error\n",
        "      y_pred= model(images)\n",
        "      loss= F.nll_loss(y_pred,target)\n",
        "      running_loss+=loss.item() # accumulating loss across every batch\n",
        "      preds= y_pred.argmax(dim=1,keepdims=True) # get the index of the max log-probability\n",
        "      running_correct+=preds.eq(target.view_as(preds)).cpu().sum().item()\n",
        "\n",
        "      # In PyTorch, we need to set the gradients to zero before starting to do backpropragation because PyTorch accumulates the gradients on subsequent backward passes. \n",
        "      # Because of this, when you start your training loop, ideally you should zero out the gradients so that you do the parameter update correctly.\n",
        "      # Backpropogation  \n",
        "      optimizer.zero_grad()          \n",
        "      loss.backward()\n",
        "      optimizer.step()     \n",
        "\n",
        "    # calculate Loss and accuracy accross every epoch\n",
        "    loss= running_loss/len(data_loader.dataset)\n",
        "    accuracy=100*(running_correct/len(data_loader.dataset))  \n",
        "\n",
        "    print(f\"Training Loss {loss} Training Accuracy {accuracy:.2f}\")    \n",
        "    return loss, accuracy\n"
      ],
      "metadata": {
        "id": "KUYpvcKnpbUg"
      },
      "execution_count": 28,
      "outputs": []
    },
    {
      "cell_type": "code",
      "source": [
        "def test(data_loader,model,optimizer):\n",
        "  model.eval()\n",
        "  progress_bar= tqdm(data_loader)\n",
        "  running_loss=0.0\n",
        "  running_correct= 0\n",
        "\n",
        "  with torch.no_grad():\n",
        "    for batch_idx,(images,target) in enumerate(progress_bar):\n",
        "      # get samples\n",
        "      images,target= images.to(device),target.to(device)\n",
        "\n",
        "      # prediction\n",
        "      y_preds= model(images)\n",
        "      loss=F.nll_loss(y_preds,target)\n",
        "      running_loss+=loss.item()\n",
        "      preds= y_preds.argmax(dim=1,keepdims=True) # get the index of the max log-probability\n",
        "      running_correct+=preds.eq(target.view_as(preds)).cpu().sum().item()\n",
        "\n",
        "    loss= running_loss/len(data_loader.dataset)\n",
        "    accuracy=100*(running_correct/len(data_loader.dataset)) \n",
        "    print(f\"Validation Loss {loss} Validation Accuracy {accuracy:.2f}\")\n",
        "    return loss,accuracy\n",
        "\n"
      ],
      "metadata": {
        "id": "BNmZ6ajgu7ho"
      },
      "execution_count": 29,
      "outputs": []
    },
    {
      "cell_type": "code",
      "source": [
        "# model with first filter as 5,5\n",
        "model=Net().to(device)\n",
        "optimizer= optim.SGD(model.parameters(),lr=0.01,momentum=0.9)\n",
        "EPOCHS=20\n",
        "train_losses , train_accuracy = [],[]\n",
        "val_losses , val_accuracy = [],[]\n",
        "for epoch in range(1,EPOCHS+1):\n",
        "  print(\"EPOCH:\",epoch)\n",
        "  epoch_loss, epoch_accuracy= train(train_loader,model,optimizer)\n",
        "  val_epoch_loss , val_epoch_accuracy = test(test_loader,model,optimizer)\n",
        "  train_losses.append(epoch_loss)\n",
        "  train_accuracy.append(epoch_accuracy)\n",
        "  val_losses.append(val_epoch_loss)\n",
        "  val_accuracy.append(val_epoch_accuracy)"
      ],
      "metadata": {
        "colab": {
          "base_uri": "https://localhost:8080/"
        },
        "id": "H7jCiVqjhI6I",
        "outputId": "328c84d1-0cb2-470e-dd07-3d37c6b47b23"
      },
      "execution_count": 30,
      "outputs": [
        {
          "output_type": "stream",
          "name": "stdout",
          "text": [
            "EPOCH: 1\n"
          ]
        },
        {
          "output_type": "stream",
          "name": "stderr",
          "text": [
            "100%|██████████| 469/469 [00:13<00:00, 34.75it/s]\n"
          ]
        },
        {
          "output_type": "stream",
          "name": "stdout",
          "text": [
            "Training Loss 0.0025569908741861582 Training Accuracy 93.12\n"
          ]
        },
        {
          "output_type": "stream",
          "name": "stderr",
          "text": [
            "100%|██████████| 79/79 [00:01<00:00, 40.96it/s]\n"
          ]
        },
        {
          "output_type": "stream",
          "name": "stdout",
          "text": [
            "Validation Loss 0.001004446627944708 Validation Accuracy 97.20\n",
            "EPOCH: 2\n"
          ]
        },
        {
          "output_type": "stream",
          "name": "stderr",
          "text": [
            "100%|██████████| 469/469 [00:11<00:00, 39.57it/s]\n"
          ]
        },
        {
          "output_type": "stream",
          "name": "stdout",
          "text": [
            "Training Loss 0.0007439833094986777 Training Accuracy 97.81\n"
          ]
        },
        {
          "output_type": "stream",
          "name": "stderr",
          "text": [
            "100%|██████████| 79/79 [00:01<00:00, 39.56it/s]\n"
          ]
        },
        {
          "output_type": "stream",
          "name": "stdout",
          "text": [
            "Validation Loss 0.0007059406900778413 Validation Accuracy 97.57\n",
            "EPOCH: 3\n"
          ]
        },
        {
          "output_type": "stream",
          "name": "stderr",
          "text": [
            "100%|██████████| 469/469 [00:13<00:00, 34.61it/s]\n"
          ]
        },
        {
          "output_type": "stream",
          "name": "stdout",
          "text": [
            "Training Loss 0.0005598871695498626 Training Accuracy 98.27\n"
          ]
        },
        {
          "output_type": "stream",
          "name": "stderr",
          "text": [
            "100%|██████████| 79/79 [00:01<00:00, 39.90it/s]\n"
          ]
        },
        {
          "output_type": "stream",
          "name": "stdout",
          "text": [
            "Validation Loss 0.0006896014155820012 Validation Accuracy 97.44\n",
            "EPOCH: 4\n"
          ]
        },
        {
          "output_type": "stream",
          "name": "stderr",
          "text": [
            "100%|██████████| 469/469 [00:12<00:00, 38.83it/s]\n"
          ]
        },
        {
          "output_type": "stream",
          "name": "stdout",
          "text": [
            "Training Loss 0.000489660437606896 Training Accuracy 98.40\n"
          ]
        },
        {
          "output_type": "stream",
          "name": "stderr",
          "text": [
            "100%|██████████| 79/79 [00:02<00:00, 38.77it/s]\n"
          ]
        },
        {
          "output_type": "stream",
          "name": "stdout",
          "text": [
            "Validation Loss 0.00048071896508336065 Validation Accuracy 98.16\n",
            "EPOCH: 5\n"
          ]
        },
        {
          "output_type": "stream",
          "name": "stderr",
          "text": [
            "100%|██████████| 469/469 [00:12<00:00, 38.90it/s]\n"
          ]
        },
        {
          "output_type": "stream",
          "name": "stdout",
          "text": [
            "Training Loss 0.00042398874326609074 Training Accuracy 98.57\n"
          ]
        },
        {
          "output_type": "stream",
          "name": "stderr",
          "text": [
            "100%|██████████| 79/79 [00:01<00:00, 39.58it/s]\n"
          ]
        },
        {
          "output_type": "stream",
          "name": "stdout",
          "text": [
            "Validation Loss 0.0004076389488764107 Validation Accuracy 98.45\n",
            "EPOCH: 6\n"
          ]
        },
        {
          "output_type": "stream",
          "name": "stderr",
          "text": [
            "100%|██████████| 469/469 [00:11<00:00, 39.36it/s]\n"
          ]
        },
        {
          "output_type": "stream",
          "name": "stdout",
          "text": [
            "Training Loss 0.0003905156700871885 Training Accuracy 98.68\n"
          ]
        },
        {
          "output_type": "stream",
          "name": "stderr",
          "text": [
            "100%|██████████| 79/79 [00:01<00:00, 40.86it/s]\n"
          ]
        },
        {
          "output_type": "stream",
          "name": "stdout",
          "text": [
            "Validation Loss 0.00042227474860846996 Validation Accuracy 98.56\n",
            "EPOCH: 7\n"
          ]
        },
        {
          "output_type": "stream",
          "name": "stderr",
          "text": [
            "100%|██████████| 469/469 [00:11<00:00, 39.35it/s]\n"
          ]
        },
        {
          "output_type": "stream",
          "name": "stdout",
          "text": [
            "Training Loss 0.0003563531290118893 Training Accuracy 98.79\n"
          ]
        },
        {
          "output_type": "stream",
          "name": "stderr",
          "text": [
            "100%|██████████| 79/79 [00:01<00:00, 40.52it/s]\n"
          ]
        },
        {
          "output_type": "stream",
          "name": "stdout",
          "text": [
            "Validation Loss 0.00038638771162368356 Validation Accuracy 98.64\n",
            "EPOCH: 8\n"
          ]
        },
        {
          "output_type": "stream",
          "name": "stderr",
          "text": [
            "100%|██████████| 469/469 [00:11<00:00, 39.90it/s]\n"
          ]
        },
        {
          "output_type": "stream",
          "name": "stdout",
          "text": [
            "Training Loss 0.00033994816302632293 Training Accuracy 98.80\n"
          ]
        },
        {
          "output_type": "stream",
          "name": "stderr",
          "text": [
            "100%|██████████| 79/79 [00:01<00:00, 40.69it/s]\n"
          ]
        },
        {
          "output_type": "stream",
          "name": "stdout",
          "text": [
            "Validation Loss 0.0002753587385173887 Validation Accuracy 98.99\n",
            "EPOCH: 9\n"
          ]
        },
        {
          "output_type": "stream",
          "name": "stderr",
          "text": [
            "100%|██████████| 469/469 [00:11<00:00, 39.62it/s]\n"
          ]
        },
        {
          "output_type": "stream",
          "name": "stdout",
          "text": [
            "Training Loss 0.0003071879479335621 Training Accuracy 98.90\n"
          ]
        },
        {
          "output_type": "stream",
          "name": "stderr",
          "text": [
            "100%|██████████| 79/79 [00:01<00:00, 39.54it/s]\n"
          ]
        },
        {
          "output_type": "stream",
          "name": "stdout",
          "text": [
            "Validation Loss 0.00027506207255646584 Validation Accuracy 99.02\n",
            "EPOCH: 10\n"
          ]
        },
        {
          "output_type": "stream",
          "name": "stderr",
          "text": [
            "100%|██████████| 469/469 [00:11<00:00, 39.55it/s]\n"
          ]
        },
        {
          "output_type": "stream",
          "name": "stdout",
          "text": [
            "Training Loss 0.0002989938935187335 Training Accuracy 98.94\n"
          ]
        },
        {
          "output_type": "stream",
          "name": "stderr",
          "text": [
            "100%|██████████| 79/79 [00:01<00:00, 41.09it/s]\n"
          ]
        },
        {
          "output_type": "stream",
          "name": "stdout",
          "text": [
            "Validation Loss 0.0002642782036680728 Validation Accuracy 99.07\n",
            "EPOCH: 11\n"
          ]
        },
        {
          "output_type": "stream",
          "name": "stderr",
          "text": [
            "100%|██████████| 469/469 [00:11<00:00, 40.05it/s]\n"
          ]
        },
        {
          "output_type": "stream",
          "name": "stdout",
          "text": [
            "Training Loss 0.0002877018092976262 Training Accuracy 98.96\n"
          ]
        },
        {
          "output_type": "stream",
          "name": "stderr",
          "text": [
            "100%|██████████| 79/79 [00:01<00:00, 39.74it/s]\n"
          ]
        },
        {
          "output_type": "stream",
          "name": "stdout",
          "text": [
            "Validation Loss 0.0002735607731621712 Validation Accuracy 98.92\n",
            "EPOCH: 12\n"
          ]
        },
        {
          "output_type": "stream",
          "name": "stderr",
          "text": [
            "100%|██████████| 469/469 [00:11<00:00, 39.70it/s]\n"
          ]
        },
        {
          "output_type": "stream",
          "name": "stdout",
          "text": [
            "Training Loss 0.00027571289422921835 Training Accuracy 99.03\n"
          ]
        },
        {
          "output_type": "stream",
          "name": "stderr",
          "text": [
            "100%|██████████| 79/79 [00:01<00:00, 41.08it/s]\n"
          ]
        },
        {
          "output_type": "stream",
          "name": "stdout",
          "text": [
            "Validation Loss 0.00026440994450822473 Validation Accuracy 98.90\n",
            "EPOCH: 13\n"
          ]
        },
        {
          "output_type": "stream",
          "name": "stderr",
          "text": [
            "100%|██████████| 469/469 [00:12<00:00, 36.14it/s]\n"
          ]
        },
        {
          "output_type": "stream",
          "name": "stdout",
          "text": [
            "Training Loss 0.0002587820181118635 Training Accuracy 99.10\n"
          ]
        },
        {
          "output_type": "stream",
          "name": "stderr",
          "text": [
            "100%|██████████| 79/79 [00:02<00:00, 38.98it/s]\n"
          ]
        },
        {
          "output_type": "stream",
          "name": "stdout",
          "text": [
            "Validation Loss 0.00026281640550587326 Validation Accuracy 99.02\n",
            "EPOCH: 14\n"
          ]
        },
        {
          "output_type": "stream",
          "name": "stderr",
          "text": [
            "100%|██████████| 469/469 [00:12<00:00, 38.92it/s]\n"
          ]
        },
        {
          "output_type": "stream",
          "name": "stdout",
          "text": [
            "Training Loss 0.00025603108808475855 Training Accuracy 99.11\n"
          ]
        },
        {
          "output_type": "stream",
          "name": "stderr",
          "text": [
            "100%|██████████| 79/79 [00:01<00:00, 40.40it/s]\n"
          ]
        },
        {
          "output_type": "stream",
          "name": "stdout",
          "text": [
            "Validation Loss 0.00027465949405450376 Validation Accuracy 98.95\n",
            "EPOCH: 15\n"
          ]
        },
        {
          "output_type": "stream",
          "name": "stderr",
          "text": [
            "100%|██████████| 469/469 [00:11<00:00, 39.57it/s]\n"
          ]
        },
        {
          "output_type": "stream",
          "name": "stdout",
          "text": [
            "Training Loss 0.00023794148511175687 Training Accuracy 99.15\n"
          ]
        },
        {
          "output_type": "stream",
          "name": "stderr",
          "text": [
            "100%|██████████| 79/79 [00:01<00:00, 40.49it/s]\n"
          ]
        },
        {
          "output_type": "stream",
          "name": "stdout",
          "text": [
            "Validation Loss 0.00026847803653217854 Validation Accuracy 98.98\n",
            "EPOCH: 16\n"
          ]
        },
        {
          "output_type": "stream",
          "name": "stderr",
          "text": [
            "100%|██████████| 469/469 [00:11<00:00, 39.37it/s]\n"
          ]
        },
        {
          "output_type": "stream",
          "name": "stdout",
          "text": [
            "Training Loss 0.0002209649390152966 Training Accuracy 99.22\n"
          ]
        },
        {
          "output_type": "stream",
          "name": "stderr",
          "text": [
            "100%|██████████| 79/79 [00:01<00:00, 39.98it/s]\n"
          ]
        },
        {
          "output_type": "stream",
          "name": "stdout",
          "text": [
            "Validation Loss 0.00023893924155272544 Validation Accuracy 99.10\n",
            "EPOCH: 17\n"
          ]
        },
        {
          "output_type": "stream",
          "name": "stderr",
          "text": [
            "100%|██████████| 469/469 [00:11<00:00, 39.73it/s]\n"
          ]
        },
        {
          "output_type": "stream",
          "name": "stdout",
          "text": [
            "Training Loss 0.00022573449772316962 Training Accuracy 99.20\n"
          ]
        },
        {
          "output_type": "stream",
          "name": "stderr",
          "text": [
            "100%|██████████| 79/79 [00:01<00:00, 39.61it/s]\n"
          ]
        },
        {
          "output_type": "stream",
          "name": "stdout",
          "text": [
            "Validation Loss 0.00025267989120911807 Validation Accuracy 99.07\n",
            "EPOCH: 18\n"
          ]
        },
        {
          "output_type": "stream",
          "name": "stderr",
          "text": [
            "100%|██████████| 469/469 [00:11<00:00, 39.42it/s]\n"
          ]
        },
        {
          "output_type": "stream",
          "name": "stdout",
          "text": [
            "Training Loss 0.000210026759650403 Training Accuracy 99.26\n"
          ]
        },
        {
          "output_type": "stream",
          "name": "stderr",
          "text": [
            "100%|██████████| 79/79 [00:01<00:00, 40.70it/s]\n"
          ]
        },
        {
          "output_type": "stream",
          "name": "stdout",
          "text": [
            "Validation Loss 0.0003007292190100998 Validation Accuracy 98.87\n",
            "EPOCH: 19\n"
          ]
        },
        {
          "output_type": "stream",
          "name": "stderr",
          "text": [
            "100%|██████████| 469/469 [00:11<00:00, 40.18it/s]\n"
          ]
        },
        {
          "output_type": "stream",
          "name": "stdout",
          "text": [
            "Training Loss 0.0002207697461708449 Training Accuracy 99.23\n"
          ]
        },
        {
          "output_type": "stream",
          "name": "stderr",
          "text": [
            "100%|██████████| 79/79 [00:01<00:00, 39.91it/s]\n"
          ]
        },
        {
          "output_type": "stream",
          "name": "stdout",
          "text": [
            "Validation Loss 0.0002007424717419781 Validation Accuracy 99.24\n",
            "EPOCH: 20\n"
          ]
        },
        {
          "output_type": "stream",
          "name": "stderr",
          "text": [
            "100%|██████████| 469/469 [00:11<00:00, 39.34it/s]\n"
          ]
        },
        {
          "output_type": "stream",
          "name": "stdout",
          "text": [
            "Training Loss 0.00021094922186651576 Training Accuracy 99.22\n"
          ]
        },
        {
          "output_type": "stream",
          "name": "stderr",
          "text": [
            "100%|██████████| 79/79 [00:01<00:00, 40.18it/s]"
          ]
        },
        {
          "output_type": "stream",
          "name": "stdout",
          "text": [
            "Validation Loss 0.000239652320696041 Validation Accuracy 99.13\n"
          ]
        },
        {
          "output_type": "stream",
          "name": "stderr",
          "text": [
            "\n"
          ]
        }
      ]
    },
    {
      "cell_type": "code",
      "source": [
        "\n",
        "## Plot the logs\n",
        "%matplotlib inline\n",
        "import seaborn as sns\n",
        "plt.figure(figsize=(8,8))\n",
        "sns.lineplot(y=train_accuracy,x=range(len(train_accuracy)),label=\"Training Accuracy\")\n",
        "sns.lineplot(y=val_accuracy,x=range(len(val_accuracy)),label=\"Validation Accuracy\")\n",
        "plt.xlabel(\"Epochs\")\n",
        "plt.ylabel(\"Accuracy\")\n",
        "plt.show()"
      ],
      "metadata": {
        "id": "o4BIGQV2MjAV"
      },
      "execution_count": null,
      "outputs": []
    },
    {
      "cell_type": "code",
      "source": [
        "plt.figure(figsize=(8,8))\n",
        "sns.lineplot(y=train_losses,x=range(len(train_losses)),label=\"Training Loss\")\n",
        "sns.lineplot(y=val_losses,x=range(len(val_losses)),label=\"Validation Loss\")\n",
        "plt.xlabel(\"Epochs\")\n",
        "plt.ylabel(\"Loss\")\n",
        "plt.show()"
      ],
      "metadata": {
        "id": "LaDShWD2Znc7"
      },
      "execution_count": null,
      "outputs": []
    },
    {
      "cell_type": "code",
      "source": [],
      "metadata": {
        "id": "HRaJUPiZ8-nd"
      },
      "execution_count": null,
      "outputs": []
    }
  ]
}