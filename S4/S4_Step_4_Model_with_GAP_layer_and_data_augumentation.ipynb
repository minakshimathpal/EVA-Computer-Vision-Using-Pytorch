{
  "nbformat": 4,
  "nbformat_minor": 0,
  "metadata": {
    "colab": {
      "provenance": []
    },
    "kernelspec": {
      "name": "python3",
      "display_name": "Python 3"
    },
    "language_info": {
      "name": "python"
    },
    "accelerator": "GPU",
    "gpuClass": "standard"
  },
  "cells": [
    {
      "cell_type": "code",
      "execution_count": 44,
      "metadata": {
        "colab": {
          "base_uri": "https://localhost:8080/"
        },
        "id": "QRKKNfSMxOn1",
        "outputId": "5285a32b-abc7-4375-8274-e5a3408760ee"
      },
      "outputs": [
        {
          "output_type": "execute_result",
          "data": {
            "text/plain": [
              "<torch._C.Generator at 0x7fd649f2ecf0>"
            ]
          },
          "metadata": {},
          "execution_count": 44
        }
      ],
      "source": [
        "import torch\n",
        "import torch.nn as nn\n",
        "import torch.nn.functional as F\n",
        "import torch.optim as optim\n",
        "\n",
        "import numpy as np\n",
        "from torchvision import datasets,transforms\n",
        "import matplotlib.pyplot as plt\n",
        "\n",
        "seed=42\n",
        "torch.manual_seed(seed)"
      ]
    },
    {
      "cell_type": "markdown",
      "source": [
        "### Target\n",
        "1. Get the setup\n",
        "2. Set Transforms\n",
        "3. Set the Data Loader\n",
        "4. Set the skeleton right\n",
        "5. Set Training and testing loop\n",
        "6. Results:\n",
        "\n"
      ],
      "metadata": {
        "id": "HhVbYpyjyHhR"
      }
    },
    {
      "cell_type": "markdown",
      "source": [
        "## Data Transformations\n",
        "\n",
        "We first start with defining our data transformations. We need to think what our data is and how can we augment it to correct represent images which it might not see otherwise. \n",
        "\n",
        "Here is the list of all the transformations which come pre-built with PyTorch\n",
        "\n",
        "1.   Compose\n",
        "2.   ToTensor\n",
        "3.   ToPILImage\n",
        "4. Normalize\n",
        "5. Resize\n",
        "6. Scale\n",
        "7. CenterCrop\n",
        "8. Pad\n",
        "9. Lambda\n",
        "10. RandomApply\n",
        "11. RandomChoice\n",
        "12. RandomOrder\n",
        "13. RandomCrop\n",
        "14. RandomHorizontalFlip\n",
        "15. RandomVerticalFlip\n",
        "16. RandomResizedCrop\n",
        "17. RandomSizedCrop\n",
        "18. FiveCrop\n",
        "19. TenCrop\n",
        "20. LinearTransformation\n",
        "21. ColorJitter\n",
        "22. RandomRotation\n",
        "23. RandomAffine\n",
        "24. Grayscale\n",
        "25. RandomGrayscale\n",
        "26. RandomPerspective\n",
        "27. RandomErasing\n",
        "\n",
        "You can read more about them [here](https://pytorch.org/docs/stable/_modules/torchvision/transforms/transforms.html)"
      ],
      "metadata": {
        "id": "ZV3kTq8VysKZ"
      }
    },
    {
      "cell_type": "code",
      "source": [
        "## Train Phase transformation\n",
        "train_transforms=transforms.Compose([transforms.ToTensor(),\n",
        "                                     transforms.Normalize((0.1307,),(0.3081,))])\n",
        "\n",
        "test_transforms=transforms.Compose([transforms.ToTensor(),\n",
        "                                    transforms.Normalize((0.1307,),(0.3081,))])"
      ],
      "metadata": {
        "id": "AZB4290lALFU"
      },
      "execution_count": 45,
      "outputs": []
    },
    {
      "cell_type": "markdown",
      "source": [
        "## Get the Dataset and create train and test split\n"
      ],
      "metadata": {
        "id": "0ZkGITSxwh9w"
      }
    },
    {
      "cell_type": "code",
      "source": [
        "train_set= datasets.MNIST(root=\"./data\",train=True,download=True,transform=train_transforms)\n",
        "\n",
        "test_set= datasets.MNIST(root=\"./data\",train=False,download=True,transform=test_transforms)"
      ],
      "metadata": {
        "id": "22rJYpxfzhWU"
      },
      "execution_count": 46,
      "outputs": []
    },
    {
      "cell_type": "markdown",
      "source": [
        "### Data Loader Arguments & Test and Train Arguments"
      ],
      "metadata": {
        "id": "7XACNl5xBNRU"
      }
    },
    {
      "cell_type": "code",
      "source": [
        "# CUDA?\n",
        "is_cuda= torch.cuda.is_available()\n",
        "print(\"CUDA Available?\",is_cuda)\n",
        "\n",
        " #for Reproduciability\n",
        "torch.manual_seed(seed)\n",
        "\n",
        "\n",
        "if is_cuda:\n",
        "  torch.cuda.manual_seed(seed)\n",
        "\n",
        "# Data Loader Arguments - something you will fetch these from Command Prompt \n",
        "dataloader_args=dict(shuffle=True,batch_size=128,num_workers=4,pin_memory=True) if is_cuda else dict(shuffle=True,batch_size=64)\n",
        "\n",
        "# train loader \n",
        "train_loader=torch.utils.data.DataLoader(train_set,**dataloader_args)\n",
        "test_loader= torch.utils.data.DataLoader(test_set,**dataloader_args)"
      ],
      "metadata": {
        "colab": {
          "base_uri": "https://localhost:8080/"
        },
        "id": "PXtiXoamBTat",
        "outputId": "eaf1e359-96da-4c1e-b351-a0bbb337f509"
      },
      "execution_count": 47,
      "outputs": [
        {
          "output_type": "stream",
          "name": "stdout",
          "text": [
            "CUDA Available? True\n"
          ]
        }
      ]
    },
    {
      "cell_type": "code",
      "source": [
        "### Data Statistics\n",
        "train_data=train_set.transform(train_set.data.cpu().numpy())\n",
        "print(\"-Numpy Shape:\",train_data.numpy().shape)\n",
        "print(\"-Tensor Shape \",train_data.shape)\n",
        "print(' - min:', torch.min(train_data))\n",
        "print(' - max:', torch.max(train_data))\n",
        "print(' - mean:', torch.mean(train_data))\n",
        "print(' - std:', torch.std(train_data))\n",
        "print(' - var:', torch.var(train_data))"
      ],
      "metadata": {
        "colab": {
          "base_uri": "https://localhost:8080/"
        },
        "id": "6arkbnobFlJ2",
        "outputId": "967bb576-7a21-446b-a26e-c0144de79468"
      },
      "execution_count": 48,
      "outputs": [
        {
          "output_type": "stream",
          "name": "stdout",
          "text": [
            "-Numpy Shape: (28, 60000, 28)\n",
            "-Tensor Shape  torch.Size([28, 60000, 28])\n",
            " - min: tensor(-0.4242)\n",
            " - max: tensor(2.8215)\n",
            " - mean: tensor(-0.0001)\n",
            " - std: tensor(1.0000)\n",
            " - var: tensor(1.0001)\n"
          ]
        }
      ]
    },
    {
      "cell_type": "code",
      "source": [
        "images,labels= next(iter(train_loader))\n",
        "print(\"One batch:\",images.shape)\n",
        "print(\"Targets of one batch:\",labels.shape)\n",
        "\n",
        "plt.imshow(images[0].numpy().squeeze(),cmap=\"gray_r\");"
      ],
      "metadata": {
        "colab": {
          "base_uri": "https://localhost:8080/",
          "height": 301
        },
        "id": "4Jq84X3RIISZ",
        "outputId": "774c3591-e590-4519-8edb-b6ca9b251815"
      },
      "execution_count": 49,
      "outputs": [
        {
          "output_type": "stream",
          "name": "stdout",
          "text": [
            "One batch: torch.Size([128, 1, 28, 28])\n",
            "Targets of one batch: torch.Size([128])\n"
          ]
        },
        {
          "output_type": "display_data",
          "data": {
            "text/plain": [
              "<Figure size 432x288 with 1 Axes>"
            ],
            "image/png": "[encoded data removed]"
          },
          "metadata": {
            "needs_background": "light"
          }
        }
      ]
    },
    {
      "cell_type": "markdown",
      "source": [
        "### Illustration of transforms"
      ],
      "metadata": {
        "id": "XeDVkNnI4HPM"
      }
    },
    {
      "cell_type": "code",
      "source": [
        "original_img= images[0]"
      ],
      "metadata": {
        "id": "AY7tJ-cS4M11"
      },
      "execution_count": 50,
      "outputs": []
    },
    {
      "cell_type": "code",
      "source": [
        "plt.imshow(original_img.squeeze(),cmap=\"gray_r\");"
      ],
      "metadata": {
        "colab": {
          "base_uri": "https://localhost:8080/",
          "height": 265
        },
        "id": "U3UCxabx4-HB",
        "outputId": "72ef0b89-c1ff-46c8-9dbc-0be366353359"
      },
      "execution_count": 51,
      "outputs": [
        {
          "output_type": "display_data",
          "data": {
            "text/plain": [
              "<Figure size 432x288 with 1 Axes>"
            ],
            "image/png": "[encoded data removed]"
          },
          "metadata": {
            "needs_background": "light"
          }
        }
      ]
    },
    {
      "cell_type": "code",
      "source": [
        "## Create a function to plot the transformed image\n",
        "\n",
        "def plot(imgs, with_orig=True,row_title=None,**imshow_kwargs):\n",
        "  if not isinstance(imgs[0],list):\n",
        "    # make a 2d grid even if there is just 1 row\n",
        "    imgs=[imgs]\n",
        "  \n",
        "  num_rows=len(imgs)\n",
        "  num_cols= len(imgs[0])+with_orig\n",
        "  \n",
        "  fig,axes=plt.subplots(nrows=num_rows,ncols=num_cols,figsize=(12,12),squeeze=False)\n",
        "  for row_idx,row in enumerate(imgs):    \n",
        "    row= [original_img]+row if with_orig else row\n",
        "\n",
        "    for col_idx,img in enumerate(row):     \n",
        "      ax=axes[row_idx,col_idx]\n",
        "      ax.imshow(img.squeeze(),** imshow_kwargs)\n",
        "      ax.set(xticklabels=[], yticklabels=[], xticks=[], yticks=[])\n",
        "\n",
        "  if with_orig:\n",
        "      axes[0, 0].set(title='Original image')\n",
        "      axes[0, 0].title.set_size(10)\n",
        "  if row_title is not None:\n",
        "      for row_idx in range(num_cols):\n",
        "          axes[0,row_idx].set(ylabel=row_title[row_idx])\n",
        "\n",
        "  plt.tight_layout()\n",
        "\n",
        "\n"
      ],
      "metadata": {
        "id": "smmTw70G4M3u"
      },
      "execution_count": 52,
      "outputs": []
    },
    {
      "cell_type": "code",
      "source": [
        "## Pad\n",
        "padded_imgs= [transforms.Pad(padding=padding)(original_img) for padding in [3,10,30,50]]\n",
        "plot(padded_imgs,row_title=[\" \",\"pad=3\",\"pad=10\",\"pad=30\",\"pad=50\"])"
      ],
      "metadata": {
        "colab": {
          "base_uri": "https://localhost:8080/",
          "height": 194
        },
        "id": "172jiaHZ7h-I",
        "outputId": "79ea28d4-ba16-47bc-9c37-bd965b8c505b"
      },
      "execution_count": 53,
      "outputs": [
        {
          "output_type": "display_data",
          "data": {
            "text/plain": [
              "<Figure size 864x864 with 5 Axes>"
            ],
            "image/png": "[encoded data removed]"
          },
          "metadata": {}
        }
      ]
    },
    {
      "cell_type": "code",
      "source": [
        "## Resize\n",
        "resized_img= [transforms.Resize(size=size)(original_img) for size in (30,50,100,original_img.size()[-1])]\n",
        "plot(resized_img)"
      ],
      "metadata": {
        "colab": {
          "base_uri": "https://localhost:8080/",
          "height": 205
        },
        "id": "2xsmWxxaJKnL",
        "outputId": "2752be10-3faf-4159-b28b-42018d8f07f7"
      },
      "execution_count": 54,
      "outputs": [
        {
          "output_type": "display_data",
          "data": {
            "text/plain": [
              "<Figure size 864x864 with 5 Axes>"
            ],
            "image/png": "[encoded data removed]"
          },
          "metadata": {}
        }
      ]
    },
    {
      "cell_type": "code",
      "source": [
        "# RandomCrop\n",
        "random_crop= transforms.RandomCrop(size=(20,20))\n",
        "crops=[random_crop(original_img) for _ in range(4)]\n",
        "plot(crops)"
      ],
      "metadata": {
        "colab": {
          "base_uri": "https://localhost:8080/",
          "height": 205
        },
        "id": "COjh0l_FRmeC",
        "outputId": "0baa57e2-04e3-4849-bedb-5be98a73cc49"
      },
      "execution_count": 55,
      "outputs": [
        {
          "output_type": "display_data",
          "data": {
            "text/plain": [
              "<Figure size 864x864 with 5 Axes>"
            ],
            "image/png": "[encoded data removed]"
          },
          "metadata": {}
        }
      ]
    },
    {
      "cell_type": "code",
      "source": [
        "## FiveCrop\n",
        "(top_left, top_right, bottom_left, bottom_right, center) = transforms.FiveCrop(size=(20, 20))(original_img)\n",
        "plot([top_left, top_right, bottom_left, bottom_right, center])"
      ],
      "metadata": {
        "colab": {
          "base_uri": "https://localhost:8080/",
          "height": 176
        },
        "id": "h_cduCSxKlWK",
        "outputId": "81a1bc8b-1222-4eea-8c70-42e919fcaaf4"
      },
      "execution_count": 56,
      "outputs": [
        {
          "output_type": "display_data",
          "data": {
            "text/plain": [
              "<Figure size 864x864 with 6 Axes>"
            ],
            "image/png": "[encoded data removed]"
          },
          "metadata": {}
        }
      ]
    },
    {
      "cell_type": "code",
      "source": [
        "affine_transfomer = transforms.RandomAffine(degrees=(30, 60), translate=(0.1, 0.3), scale=(0.5, 0.75))\n",
        "affine_imgs = [affine_transfomer(original_img) for _ in range(4)]\n",
        "plot(affine_imgs)"
      ],
      "metadata": {
        "colab": {
          "base_uri": "https://localhost:8080/",
          "height": 205
        },
        "id": "o-UXGj3lTWkd",
        "outputId": "bcb6be4c-b574-4dfc-d170-404beb8db839"
      },
      "execution_count": 57,
      "outputs": [
        {
          "output_type": "display_data",
          "data": {
            "text/plain": [
              "<Figure size 864x864 with 5 Axes>"
            ],
            "image/png": "[encoded data removed]"
          },
          "metadata": {}
        }
      ]
    },
    {
      "cell_type": "markdown",
      "source": [
        "## Random Transformations : RandomPerspective\n",
        " means that the same transfomer instance will produce different result each time it transforms a given image.\n"
      ],
      "metadata": {
        "id": "UBoedyqWLqzn"
      }
    },
    {
      "cell_type": "code",
      "source": [
        "perspective_transformer = transforms.RandomPerspective(distortion_scale=0.6, p=1.0)\n",
        "perspective_imgs = [perspective_transformer(original_img) for _ in range(4)]\n",
        "plot(perspective_imgs)"
      ],
      "metadata": {
        "colab": {
          "base_uri": "https://localhost:8080/",
          "height": 205
        },
        "id": "KkVYv_2fMRNz",
        "outputId": "eb5d0e3e-4182-428c-d2df-9c869af1165e"
      },
      "execution_count": 58,
      "outputs": [
        {
          "output_type": "display_data",
          "data": {
            "text/plain": [
              "<Figure size 864x864 with 5 Axes>"
            ],
            "image/png": "[encoded data removed]"
          },
          "metadata": {}
        }
      ]
    },
    {
      "cell_type": "code",
      "source": [
        "# RandomRotation\n",
        "rotater = transforms.RandomRotation(degrees=(0, 90))\n",
        "rotated_imgs = [rotater(original_img) for _ in range(4)]\n",
        "plot(rotated_imgs)"
      ],
      "metadata": {
        "colab": {
          "base_uri": "https://localhost:8080/",
          "height": 205
        },
        "id": "T_eR8xgCMciy",
        "outputId": "0693a744-0646-46b7-e558-1fd7526d9470"
      },
      "execution_count": 59,
      "outputs": [
        {
          "output_type": "display_data",
          "data": {
            "text/plain": [
              "<Figure size 864x864 with 5 Axes>"
            ],
            "image/png": "[encoded data removed]"
          },
          "metadata": {}
        }
      ]
    },
    {
      "cell_type": "code",
      "source": [
        "# RandomHorizontalFlip\n",
        "# Some transforms are randomly-applied given a probability p. That is, the transformed image may actually be the same as the original one, \n",
        "# even when called with the same transformer instance!\n",
        "hflipper = transforms.RandomHorizontalFlip(p=0.5)\n",
        "transformed_imgs = [hflipper(original_img) for _ in range(4)]\n",
        "plot(transformed_imgs)"
      ],
      "metadata": {
        "colab": {
          "base_uri": "https://localhost:8080/",
          "height": 205
        },
        "id": "yXR800qpMm7O",
        "outputId": "5c3a4b38-4640-409c-e571-b5ebe6dcf643"
      },
      "execution_count": 60,
      "outputs": [
        {
          "output_type": "display_data",
          "data": {
            "text/plain": [
              "<Figure size 864x864 with 5 Axes>"
            ],
            "image/png": "[encoded data removed]"
          },
          "metadata": {}
        }
      ]
    },
    {
      "cell_type": "code",
      "source": [
        "vflipper = transforms.RandomVerticalFlip(p=0.5)\n",
        "transformed_imgs = [vflipper(original_img) for _ in range(4)]\n",
        "plot(transformed_imgs)"
      ],
      "metadata": {
        "colab": {
          "base_uri": "https://localhost:8080/",
          "height": 205
        },
        "id": "hbQm-YBkRMng",
        "outputId": "3f706cef-e6fd-46e5-9cf3-d22c04c96533"
      },
      "execution_count": 61,
      "outputs": [
        {
          "output_type": "display_data",
          "data": {
            "text/plain": [
              "<Figure size 864x864 with 5 Axes>"
            ],
            "image/png": "[encoded data removed]"
          },
          "metadata": {}
        }
      ]
    },
    {
      "cell_type": "markdown",
      "source": [
        "### Lets get the Data again with some transforms discussed above. We will use this data for training\n",
        "The PyTorch torchvision library provides us with an MNIST dataset, which downloads the data and provides it in a readily-usable format. Let's use the dataset MNIST function to pull the dataset to our local machine, and then wrap it around a DataLoader. We will use torchvision transformations to convert the data into PyTorch tensors and do data normalization. The following code takes care of downloading, wrapping around the DataLoader and normalizing the data:\n",
        "\n",
        "**Steps**\n",
        "1. Initialize transformation\n",
        "2. Load the data from torchvision dataset\n",
        "3. Create a dataloader using the data from above step\n"
      ],
      "metadata": {
        "id": "7dZnHeaVRU7E"
      }
    },
    {
      "cell_type": "code",
      "source": [
        "train_transforms=transforms.Compose([transforms.ToTensor(),\n",
        "                                     transforms.Normalize((0.1307,), (0.3081,)),\n",
        "                                     transforms.RandomVerticalFlip(p=0.5),\n",
        "                                     transforms.RandomHorizontalFlip(p=0.5),\n",
        "                                     transforms.RandomAffine(degrees=(30, 60), translate=(0.1, 0.3), scale=(0.5, 0.75)),\n",
        "                                     transforms.FiveCrop(size=(20, 20)),\n",
        "                                     transforms.Resize(size=20)\n",
        "                                     ])\n",
        "\n",
        "test_transforms=transforms.Compose([transforms.ToTensor(),\n",
        "                                     transforms.Normalize((0.1307,), (0.3081,)),\n",
        "                                     transforms.RandomVerticalFlip(p=0.5),\n",
        "                                     transforms.RandomHorizontalFlip(p=0.5),\n",
        "                                     transforms.RandomAffine(degrees=(30, 60), translate=(0.1, 0.3), scale=(0.5, 0.75)),\n",
        "                                     transforms.FiveCrop(size=(20, 20)),\n",
        "                                     transforms.Resize(size=20)\n",
        "                                     ])                                    "
      ],
      "metadata": {
        "id": "Fbmw7k3FTzi1"
      },
      "execution_count": 63,
      "outputs": []
    },
    {
      "cell_type": "code",
      "source": [
        "# get train_set\n",
        "train_set= datasets.MNIST(root=\"./data\",train=True,download=True,transform=train_transforms)\n",
        "test_set= datasets.MNIST(root=\"./data\",train=False,download=True,transform=test_transforms)"
      ],
      "metadata": {
        "id": "ILN_J5ryU9G-"
      },
      "execution_count": 64,
      "outputs": []
    },
    {
      "cell_type": "code",
      "source": [
        "# Create dataLoaders\n",
        "train_loaders=torch.utils.data.DataLoader(train_set,**dataloader_args)\n",
        "test_loaders=torch.utils.data.DataLoader(test_set,**dataloader_args)"
      ],
      "metadata": {
        "id": "gUtOR2iSWsTx"
      },
      "execution_count": 65,
      "outputs": []
    },
    {
      "cell_type": "code",
      "source": [
        "# lets visualize some more images\n",
        "images,labels= next(iter(train_loader))\n",
        "num_of_images=60\n",
        "for index in range(1,num_of_images+1):\n",
        "  plt.subplot(6, 10, index)\n",
        "  plt.axis('off')\n",
        "  plt.imshow(images[index].numpy().squeeze(), cmap='gray_r')\n"
      ],
      "metadata": {
        "colab": {
          "base_uri": "https://localhost:8080/",
          "height": 246
        },
        "id": "J26WKiaKW2je",
        "outputId": "f8bb4e50-ffbf-43e6-8b5f-69529ad4cfb1"
      },
      "execution_count": 66,
      "outputs": [
        {
          "output_type": "display_data",
          "data": {
            "text/plain": [
              "<Figure size 432x288 with 60 Axes>"
            ],
            "image/png": "[encoded data removed]"
          },
          "metadata": {
            "needs_background": "light"
          }
        }
      ]
    },
    {
      "cell_type": "markdown",
      "source": [
        "- Target: \n",
        "\n",
        "      Add RandomVerticalFlip(p=0.5),RandomHorizontalFlip(p=0.5),RandomAffine  (degrees=(30, 60), translate=(0.1, 0.3), scale=(0.5, 0.75)),FiveCrop(size=(20, 20)),Resize. \n",
        "- Results:\n",
        "        Parameters: 9,774\n",
        "        Best Train Accuracy: 98.92\n",
        "        Best Test Accuracy: 99.518(20th Epoch)\n",
        "- Analysis:\n",
        "        The model is under-fitting now. This is fine, as we know we have made our train data harder. \n",
        "        The test accuracy is also up, which means our test data had few images which had transformation difference w.r.t. train dataset\n"
      ],
      "metadata": {
        "id": "UMaePoIdXyjW"
      }
    },
    {
      "cell_type": "code",
      "source": [
        "dropout_value=0.1\n",
        "class Net(nn.Module):\n",
        "  def __init__(self):\n",
        "    super(Net,self).__init__()\n",
        "\n",
        "    # Input Block\n",
        "    self.convblock1= nn.Sequential(\n",
        "        nn.Conv2d(in_channels=1,out_channels=10,kernel_size=(7,7),padding=0,bias=False),        \n",
        "        nn.ReLU(),\n",
        "        nn.BatchNorm2d(10),\n",
        "        nn.Dropout(dropout_value)\n",
        "        ) # output_size=26 | 3\n",
        "\n",
        "    # CONVOLUTION BLOCK 1\n",
        "    self.convblock2= nn.Sequential(\n",
        "        nn.Conv2d(in_channels=10,out_channels=10,kernel_size=(3,3),padding=0,bias=False),\n",
        "        nn.ReLU(),\n",
        "        nn.BatchNorm2d(10),\n",
        "        nn.Dropout(dropout_value)\n",
        "    ) # output_size=24 | 5\n",
        "\n",
        "    self.convblock3= nn.Sequential(\n",
        "        nn.Conv2d(in_channels=10,out_channels=10,kernel_size=(3,3),padding=0,bias=False),\n",
        "        nn.ReLU(),\n",
        "        nn.BatchNorm2d(10),\n",
        "        nn.Dropout(dropout_value)\n",
        "    ) # output_size=22 | 7\n",
        "\n",
        "    # TRANSITION BLOCK 1\n",
        "    self.pool1= nn.MaxPool2d(2,2) # output_size=11 | 14\n",
        "    self.convblock4= nn.Sequential(\n",
        "        nn.Conv2d(in_channels=10,out_channels=32,kernel_size=(1,1),padding=0,bias=False),\n",
        "        nn.ReLU(),\n",
        "        nn.BatchNorm2d(32),\n",
        "        nn.Dropout(dropout_value)\n",
        "    ) # output_size= 11 | 16\n",
        "\n",
        "    # CONVOLUTION BLOCK 2\n",
        "    self.convblock5= nn.Sequential(\n",
        "        nn.Conv2d(in_channels=32,out_channels=20,kernel_size=(3,3),padding=0,bias=False),\n",
        "        nn.ReLU(),\n",
        "        nn.BatchNorm2d(20),\n",
        "        nn.Dropout(dropout_value)\n",
        "    ) # output_size=9 | 18\n",
        "    self.convblock6= nn.Sequential(\n",
        "        nn.Conv2d(in_channels=20,out_channels=10,kernel_size=(1,1),padding=0,bias=False),\n",
        "        nn.ReLU(),\n",
        "        nn.BatchNorm2d(10),\n",
        "        nn.Dropout(dropout_value)\n",
        "    ) # output_size=7 |20\n",
        "\n",
        "    # OUTPUT BLOCK \n",
        "    self.convblock7 = nn.Sequential(\n",
        "        nn.Conv2d(in_channels=10,out_channels=10,kernel_size=(3,3),padding=0,bias=False),\n",
        "        nn.ReLU(),\n",
        "        nn.BatchNorm2d(10),\n",
        "        nn.Dropout(dropout_value) \n",
        "    ) # output_size= 7 | 20\n",
        "    # OUTPUT BLOCK\n",
        "    self.gap = nn.Sequential(\n",
        "        nn.AvgPool2d(kernel_size=5)\n",
        "    ) # output_size = 1\n",
        "\n",
        "    self.convblock8 = nn.Sequential(\n",
        "        nn.Conv2d(in_channels=10, out_channels=10, kernel_size=(1, 1), padding=0, bias=False),\n",
        "        # nn.BatchNorm2d(10),\n",
        "        # nn.ReLU(),\n",
        "        # nn.Dropout(dropout_value)\n",
        "               ) \n",
        "\n",
        "\n",
        "        \n",
        "  def forward(self,x):\n",
        "    x= self.convblock1(x)\n",
        "    x= self.convblock2(x)\n",
        "    x= self.convblock3(x)\n",
        "    x= self.pool1(x)\n",
        "    x= self.convblock4(x)\n",
        "    x= self.convblock5(x)\n",
        "    x= self.convblock6(x)\n",
        "    x= self.convblock7(x)\n",
        "    x = self.gap(x)\n",
        "    x= self.convblock8(x)\n",
        "    x= x.view(-1,10)\n",
        "    return F.log_softmax(x,dim=-1)\n",
        "\n",
        "\n",
        "\n",
        "       "
      ],
      "metadata": {
        "id": "-rLGwkQjX2Ux"
      },
      "execution_count": 67,
      "outputs": []
    },
    {
      "cell_type": "markdown",
      "source": [
        "## Model Params"
      ],
      "metadata": {
        "id": "YcOFoBRGnS9V"
      }
    },
    {
      "cell_type": "code",
      "source": [
        "# ! pip install torchsummary"
      ],
      "metadata": {
        "id": "lRjpyRSEnV4O"
      },
      "execution_count": 68,
      "outputs": []
    },
    {
      "cell_type": "code",
      "source": [
        "from torchsummary import summary\n",
        "device= torch.device(\"cuda\" if is_cuda else \"cpu\")\n",
        "model= Net().to(device)\n",
        "summary(model,input_size=(1,28,28))"
      ],
      "metadata": {
        "colab": {
          "base_uri": "https://localhost:8080/"
        },
        "id": "HRCvn_EUnasg",
        "outputId": "b2b7f2d8-9b2b-4c59-c213-5a95f70c3341"
      },
      "execution_count": 69,
      "outputs": [
        {
          "output_type": "stream",
          "name": "stdout",
          "text": [
            "----------------------------------------------------------------\n",
            "        Layer (type)               Output Shape         Param #\n",
            "================================================================\n",
            "            Conv2d-1           [-1, 10, 22, 22]             490\n",
            "              ReLU-2           [-1, 10, 22, 22]               0\n",
            "       BatchNorm2d-3           [-1, 10, 22, 22]              20\n",
            "           Dropout-4           [-1, 10, 22, 22]               0\n",
            "            Conv2d-5           [-1, 10, 20, 20]             900\n",
            "              ReLU-6           [-1, 10, 20, 20]               0\n",
            "       BatchNorm2d-7           [-1, 10, 20, 20]              20\n",
            "           Dropout-8           [-1, 10, 20, 20]               0\n",
            "            Conv2d-9           [-1, 10, 18, 18]             900\n",
            "             ReLU-10           [-1, 10, 18, 18]               0\n",
            "      BatchNorm2d-11           [-1, 10, 18, 18]              20\n",
            "          Dropout-12           [-1, 10, 18, 18]               0\n",
            "        MaxPool2d-13             [-1, 10, 9, 9]               0\n",
            "           Conv2d-14             [-1, 32, 9, 9]             320\n",
            "             ReLU-15             [-1, 32, 9, 9]               0\n",
            "      BatchNorm2d-16             [-1, 32, 9, 9]              64\n",
            "          Dropout-17             [-1, 32, 9, 9]               0\n",
            "           Conv2d-18             [-1, 20, 7, 7]           5,760\n",
            "             ReLU-19             [-1, 20, 7, 7]               0\n",
            "      BatchNorm2d-20             [-1, 20, 7, 7]              40\n",
            "          Dropout-21             [-1, 20, 7, 7]               0\n",
            "           Conv2d-22             [-1, 10, 7, 7]             200\n",
            "             ReLU-23             [-1, 10, 7, 7]               0\n",
            "      BatchNorm2d-24             [-1, 10, 7, 7]              20\n",
            "          Dropout-25             [-1, 10, 7, 7]               0\n",
            "           Conv2d-26             [-1, 10, 5, 5]             900\n",
            "             ReLU-27             [-1, 10, 5, 5]               0\n",
            "      BatchNorm2d-28             [-1, 10, 5, 5]              20\n",
            "          Dropout-29             [-1, 10, 5, 5]               0\n",
            "        AvgPool2d-30             [-1, 10, 1, 1]               0\n",
            "           Conv2d-31             [-1, 10, 1, 1]             100\n",
            "================================================================\n",
            "Total params: 9,774\n",
            "Trainable params: 9,774\n",
            "Non-trainable params: 0\n",
            "----------------------------------------------------------------\n",
            "Input size (MB): 0.00\n",
            "Forward/backward pass size (MB): 0.51\n",
            "Params size (MB): 0.04\n",
            "Estimated Total Size (MB): 0.55\n",
            "----------------------------------------------------------------\n"
          ]
        }
      ]
    },
    {
      "cell_type": "markdown",
      "source": [
        "## Training and Testing\n",
        "Looking at logs can be boring, so we'll introduce **tqdm** progressbar to get cooler logs. \n",
        "\n",
        "Let's write train and test functions"
      ],
      "metadata": {
        "id": "EQCItWnzny1h"
      }
    },
    {
      "cell_type": "code",
      "source": [
        "# training block\n",
        "from tqdm import tqdm\n",
        "\n",
        "def train(data_loader,model,optimizer):\n",
        "    model.train() # set the mode(train/test)\n",
        "    progress_bar= tqdm(data_loader)\n",
        "    running_loss=0.0\n",
        "    running_correct= 0\n",
        "\n",
        "    # iterate over data- Access batch_id and images and labels\n",
        "    for batch_idx,(images,target) in enumerate(progress_bar):\n",
        "      # get samples\n",
        "      images,target= images.to(device),target.to(device)      \n",
        "      \n",
        "      # compute prediction error\n",
        "      y_pred= model(images)\n",
        "      loss= F.nll_loss(y_pred,target)\n",
        "      running_loss+=loss.item() # accumulating loss across every batch\n",
        "      preds= y_pred.argmax(dim=1,keepdims=True) # get the index of the max log-probability\n",
        "      running_correct+=preds.eq(target.view_as(preds)).cpu().sum().item()\n",
        "\n",
        "      # In PyTorch, we need to set the gradients to zero before starting to do backpropragation because PyTorch accumulates the gradients on subsequent backward passes. \n",
        "      # Because of this, when you start your training loop, ideally you should zero out the gradients so that you do the parameter update correctly.\n",
        "      # Backpropogation  \n",
        "      optimizer.zero_grad()          \n",
        "      loss.backward()\n",
        "      optimizer.step()     \n",
        "\n",
        "    # calculate Loss and accuracy accross every epoch\n",
        "    loss= running_loss/len(data_loader.dataset)\n",
        "    accuracy=100*(running_correct/len(data_loader.dataset))  \n",
        "\n",
        "    print(f\"Training Loss {loss} Training Accuracy {accuracy:.2f}\")    \n",
        "    return loss, accuracy\n"
      ],
      "metadata": {
        "id": "KUYpvcKnpbUg"
      },
      "execution_count": 70,
      "outputs": []
    },
    {
      "cell_type": "code",
      "source": [
        "def test(data_loader,model,optimizer):\n",
        "  model.eval()\n",
        "  progress_bar= tqdm(data_loader)\n",
        "  running_loss=0.0\n",
        "  running_correct= 0\n",
        "\n",
        "  with torch.no_grad():\n",
        "    for batch_idx,(images,target) in enumerate(progress_bar):\n",
        "      # get samples\n",
        "      images,target= images.to(device),target.to(device)\n",
        "\n",
        "      # prediction\n",
        "      y_preds= model(images)\n",
        "      loss=F.nll_loss(y_preds,target)\n",
        "      running_loss+=loss.item()\n",
        "      preds= y_preds.argmax(dim=1,keepdims=True) # get the index of the max log-probability\n",
        "      running_correct+=preds.eq(target.view_as(preds)).cpu().sum().item()\n",
        "\n",
        "    loss= running_loss/len(data_loader.dataset)\n",
        "    accuracy=100*(running_correct/len(data_loader.dataset)) \n",
        "    print(f\"Validation Loss {loss} Validation Accuracy {accuracy:.2f}\")\n",
        "    return loss,accuracy\n",
        "\n"
      ],
      "metadata": {
        "id": "BNmZ6ajgu7ho"
      },
      "execution_count": 71,
      "outputs": []
    },
    {
      "cell_type": "code",
      "source": [
        "# model with first filter as 5,5\n",
        "model=Net().to(device)\n",
        "optimizer= optim.SGD(model.parameters(),lr=0.01,momentum=0.9)\n",
        "EPOCHS=20\n",
        "train_losses , train_accuracy = [],[]\n",
        "val_losses , val_accuracy = [],[]\n",
        "for epoch in range(1,EPOCHS+1):\n",
        "  print(\"EPOCH:\",epoch)\n",
        "  epoch_loss, epoch_accuracy= train(train_loader,model,optimizer)\n",
        "  val_epoch_loss , val_epoch_accuracy = test(test_loader,model,optimizer)\n",
        "  train_losses.append(epoch_loss)\n",
        "  train_accuracy.append(epoch_accuracy)\n",
        "  val_losses.append(val_epoch_loss)\n",
        "  val_accuracy.append(val_epoch_accuracy)"
      ],
      "metadata": {
        "colab": {
          "base_uri": "https://localhost:8080/"
        },
        "id": "H7jCiVqjhI6I",
        "outputId": "89781e47-512d-435e-833d-a09817bb33fa"
      },
      "execution_count": 72,
      "outputs": [
        {
          "output_type": "stream",
          "name": "stdout",
          "text": [
            "EPOCH: 1\n"
          ]
        },
        {
          "output_type": "stream",
          "name": "stderr",
          "text": [
            "100%|██████████| 469/469 [00:12<00:00, 38.31it/s]\n"
          ]
        },
        {
          "output_type": "stream",
          "name": "stdout",
          "text": [
            "Training Loss 0.004284193519254525 Training Accuracy 85.95\n"
          ]
        },
        {
          "output_type": "stream",
          "name": "stderr",
          "text": [
            "100%|██████████| 79/79 [00:02<00:00, 38.67it/s]\n"
          ]
        },
        {
          "output_type": "stream",
          "name": "stdout",
          "text": [
            "Validation Loss 0.001285888433456421 Validation Accuracy 95.27\n",
            "EPOCH: 2\n"
          ]
        },
        {
          "output_type": "stream",
          "name": "stderr",
          "text": [
            "100%|██████████| 469/469 [00:12<00:00, 37.74it/s]\n"
          ]
        },
        {
          "output_type": "stream",
          "name": "stdout",
          "text": [
            "Training Loss 0.0008819535673285524 Training Accuracy 96.80\n"
          ]
        },
        {
          "output_type": "stream",
          "name": "stderr",
          "text": [
            "100%|██████████| 79/79 [00:02<00:00, 37.03it/s]\n"
          ]
        },
        {
          "output_type": "stream",
          "name": "stdout",
          "text": [
            "Validation Loss 0.0006089094890281558 Validation Accuracy 97.83\n",
            "EPOCH: 3\n"
          ]
        },
        {
          "output_type": "stream",
          "name": "stderr",
          "text": [
            "100%|██████████| 469/469 [00:12<00:00, 38.07it/s]\n"
          ]
        },
        {
          "output_type": "stream",
          "name": "stdout",
          "text": [
            "Training Loss 0.0006915342740093668 Training Accuracy 97.41\n"
          ]
        },
        {
          "output_type": "stream",
          "name": "stderr",
          "text": [
            "100%|██████████| 79/79 [00:02<00:00, 38.16it/s]\n"
          ]
        },
        {
          "output_type": "stream",
          "name": "stdout",
          "text": [
            "Validation Loss 0.0004800444577820599 Validation Accuracy 98.31\n",
            "EPOCH: 4\n"
          ]
        },
        {
          "output_type": "stream",
          "name": "stderr",
          "text": [
            "100%|██████████| 469/469 [00:12<00:00, 38.44it/s]\n"
          ]
        },
        {
          "output_type": "stream",
          "name": "stdout",
          "text": [
            "Training Loss 0.0005745544083106021 Training Accuracy 97.84\n"
          ]
        },
        {
          "output_type": "stream",
          "name": "stderr",
          "text": [
            "100%|██████████| 79/79 [00:02<00:00, 37.36it/s]\n"
          ]
        },
        {
          "output_type": "stream",
          "name": "stdout",
          "text": [
            "Validation Loss 0.0006724359642248601 Validation Accuracy 97.21\n",
            "EPOCH: 5\n"
          ]
        },
        {
          "output_type": "stream",
          "name": "stderr",
          "text": [
            "100%|██████████| 469/469 [00:12<00:00, 37.51it/s]\n"
          ]
        },
        {
          "output_type": "stream",
          "name": "stdout",
          "text": [
            "Training Loss 0.0005087627521095176 Training Accuracy 98.07\n"
          ]
        },
        {
          "output_type": "stream",
          "name": "stderr",
          "text": [
            "100%|██████████| 79/79 [00:02<00:00, 37.52it/s]\n"
          ]
        },
        {
          "output_type": "stream",
          "name": "stdout",
          "text": [
            "Validation Loss 0.00040358002968132495 Validation Accuracy 98.44\n",
            "EPOCH: 6\n"
          ]
        },
        {
          "output_type": "stream",
          "name": "stderr",
          "text": [
            "100%|██████████| 469/469 [00:13<00:00, 34.98it/s]\n"
          ]
        },
        {
          "output_type": "stream",
          "name": "stdout",
          "text": [
            "Training Loss 0.00046144751996422806 Training Accuracy 98.24\n"
          ]
        },
        {
          "output_type": "stream",
          "name": "stderr",
          "text": [
            "100%|██████████| 79/79 [00:02<00:00, 38.18it/s]\n"
          ]
        },
        {
          "output_type": "stream",
          "name": "stdout",
          "text": [
            "Validation Loss 0.00046419649664312604 Validation Accuracy 98.20\n",
            "EPOCH: 7\n"
          ]
        },
        {
          "output_type": "stream",
          "name": "stderr",
          "text": [
            "100%|██████████| 469/469 [00:12<00:00, 38.21it/s]\n"
          ]
        },
        {
          "output_type": "stream",
          "name": "stdout",
          "text": [
            "Training Loss 0.000434216943445305 Training Accuracy 98.34\n"
          ]
        },
        {
          "output_type": "stream",
          "name": "stderr",
          "text": [
            "100%|██████████| 79/79 [00:02<00:00, 38.54it/s]\n"
          ]
        },
        {
          "output_type": "stream",
          "name": "stdout",
          "text": [
            "Validation Loss 0.00038561722720041873 Validation Accuracy 98.43\n",
            "EPOCH: 8\n"
          ]
        },
        {
          "output_type": "stream",
          "name": "stderr",
          "text": [
            "100%|██████████| 469/469 [00:12<00:00, 38.23it/s]\n"
          ]
        },
        {
          "output_type": "stream",
          "name": "stdout",
          "text": [
            "Training Loss 0.00039479208205205697 Training Accuracy 98.46\n"
          ]
        },
        {
          "output_type": "stream",
          "name": "stderr",
          "text": [
            "100%|██████████| 79/79 [00:02<00:00, 39.08it/s]\n"
          ]
        },
        {
          "output_type": "stream",
          "name": "stdout",
          "text": [
            "Validation Loss 0.00027648283645976337 Validation Accuracy 98.93\n",
            "EPOCH: 9\n"
          ]
        },
        {
          "output_type": "stream",
          "name": "stderr",
          "text": [
            "100%|██████████| 469/469 [00:12<00:00, 38.07it/s]\n"
          ]
        },
        {
          "output_type": "stream",
          "name": "stdout",
          "text": [
            "Training Loss 0.0003835382092744112 Training Accuracy 98.56\n"
          ]
        },
        {
          "output_type": "stream",
          "name": "stderr",
          "text": [
            "100%|██████████| 79/79 [00:02<00:00, 38.13it/s]\n"
          ]
        },
        {
          "output_type": "stream",
          "name": "stdout",
          "text": [
            "Validation Loss 0.00024409539599437266 Validation Accuracy 99.00\n",
            "EPOCH: 10\n"
          ]
        },
        {
          "output_type": "stream",
          "name": "stderr",
          "text": [
            "100%|██████████| 469/469 [00:12<00:00, 37.71it/s]\n"
          ]
        },
        {
          "output_type": "stream",
          "name": "stdout",
          "text": [
            "Training Loss 0.000357318519280913 Training Accuracy 98.59\n"
          ]
        },
        {
          "output_type": "stream",
          "name": "stderr",
          "text": [
            "100%|██████████| 79/79 [00:02<00:00, 38.03it/s]\n"
          ]
        },
        {
          "output_type": "stream",
          "name": "stdout",
          "text": [
            "Validation Loss 0.00026945573415141554 Validation Accuracy 98.98\n",
            "EPOCH: 11\n"
          ]
        },
        {
          "output_type": "stream",
          "name": "stderr",
          "text": [
            "100%|██████████| 469/469 [00:12<00:00, 38.09it/s]\n"
          ]
        },
        {
          "output_type": "stream",
          "name": "stdout",
          "text": [
            "Training Loss 0.00035340484206099063 Training Accuracy 98.57\n"
          ]
        },
        {
          "output_type": "stream",
          "name": "stderr",
          "text": [
            "100%|██████████| 79/79 [00:02<00:00, 36.58it/s]\n"
          ]
        },
        {
          "output_type": "stream",
          "name": "stdout",
          "text": [
            "Validation Loss 0.0002336191506474279 Validation Accuracy 99.13\n",
            "EPOCH: 12\n"
          ]
        },
        {
          "output_type": "stream",
          "name": "stderr",
          "text": [
            "100%|██████████| 469/469 [00:12<00:00, 38.09it/s]\n"
          ]
        },
        {
          "output_type": "stream",
          "name": "stdout",
          "text": [
            "Training Loss 0.00032761030970917393 Training Accuracy 98.69\n"
          ]
        },
        {
          "output_type": "stream",
          "name": "stderr",
          "text": [
            "100%|██████████| 79/79 [00:02<00:00, 39.00it/s]\n"
          ]
        },
        {
          "output_type": "stream",
          "name": "stdout",
          "text": [
            "Validation Loss 0.00023165233657346107 Validation Accuracy 99.09\n",
            "EPOCH: 13\n"
          ]
        },
        {
          "output_type": "stream",
          "name": "stderr",
          "text": [
            "100%|██████████| 469/469 [00:12<00:00, 38.55it/s]\n"
          ]
        },
        {
          "output_type": "stream",
          "name": "stdout",
          "text": [
            "Training Loss 0.0003232151251519099 Training Accuracy 98.72\n"
          ]
        },
        {
          "output_type": "stream",
          "name": "stderr",
          "text": [
            "100%|██████████| 79/79 [00:02<00:00, 38.73it/s]\n"
          ]
        },
        {
          "output_type": "stream",
          "name": "stdout",
          "text": [
            "Validation Loss 0.00024217055847402662 Validation Accuracy 99.07\n",
            "EPOCH: 14\n"
          ]
        },
        {
          "output_type": "stream",
          "name": "stderr",
          "text": [
            "100%|██████████| 469/469 [00:12<00:00, 38.13it/s]\n"
          ]
        },
        {
          "output_type": "stream",
          "name": "stdout",
          "text": [
            "Training Loss 0.00030984707043195766 Training Accuracy 98.74\n"
          ]
        },
        {
          "output_type": "stream",
          "name": "stderr",
          "text": [
            "100%|██████████| 79/79 [00:02<00:00, 39.03it/s]\n"
          ]
        },
        {
          "output_type": "stream",
          "name": "stdout",
          "text": [
            "Validation Loss 0.00023963122090790422 Validation Accuracy 99.03\n",
            "EPOCH: 15\n"
          ]
        },
        {
          "output_type": "stream",
          "name": "stderr",
          "text": [
            "100%|██████████| 469/469 [00:13<00:00, 35.31it/s]\n"
          ]
        },
        {
          "output_type": "stream",
          "name": "stdout",
          "text": [
            "Training Loss 0.0003005886447848752 Training Accuracy 98.80\n"
          ]
        },
        {
          "output_type": "stream",
          "name": "stderr",
          "text": [
            "100%|██████████| 79/79 [00:02<00:00, 38.55it/s]\n"
          ]
        },
        {
          "output_type": "stream",
          "name": "stdout",
          "text": [
            "Validation Loss 0.00021225791893084533 Validation Accuracy 99.07\n",
            "EPOCH: 16\n"
          ]
        },
        {
          "output_type": "stream",
          "name": "stderr",
          "text": [
            "100%|██████████| 469/469 [00:12<00:00, 38.04it/s]\n"
          ]
        },
        {
          "output_type": "stream",
          "name": "stdout",
          "text": [
            "Training Loss 0.0002906201226947208 Training Accuracy 98.84\n"
          ]
        },
        {
          "output_type": "stream",
          "name": "stderr",
          "text": [
            "100%|██████████| 79/79 [00:02<00:00, 39.20it/s]\n"
          ]
        },
        {
          "output_type": "stream",
          "name": "stdout",
          "text": [
            "Validation Loss 0.00026343049448914824 Validation Accuracy 99.03\n",
            "EPOCH: 17\n"
          ]
        },
        {
          "output_type": "stream",
          "name": "stderr",
          "text": [
            "100%|██████████| 469/469 [00:12<00:00, 38.71it/s]\n"
          ]
        },
        {
          "output_type": "stream",
          "name": "stdout",
          "text": [
            "Training Loss 0.0002934817371734728 Training Accuracy 98.82\n"
          ]
        },
        {
          "output_type": "stream",
          "name": "stderr",
          "text": [
            "100%|██████████| 79/79 [00:02<00:00, 38.34it/s]\n"
          ]
        },
        {
          "output_type": "stream",
          "name": "stdout",
          "text": [
            "Validation Loss 0.00020961316855391487 Validation Accuracy 99.14\n",
            "EPOCH: 18\n"
          ]
        },
        {
          "output_type": "stream",
          "name": "stderr",
          "text": [
            "100%|██████████| 469/469 [00:12<00:00, 37.53it/s]\n"
          ]
        },
        {
          "output_type": "stream",
          "name": "stdout",
          "text": [
            "Training Loss 0.00028500363582667585 Training Accuracy 98.87\n"
          ]
        },
        {
          "output_type": "stream",
          "name": "stderr",
          "text": [
            "100%|██████████| 79/79 [00:02<00:00, 38.27it/s]\n"
          ]
        },
        {
          "output_type": "stream",
          "name": "stdout",
          "text": [
            "Validation Loss 0.00018884344939142466 Validation Accuracy 99.24\n",
            "EPOCH: 19\n"
          ]
        },
        {
          "output_type": "stream",
          "name": "stderr",
          "text": [
            "100%|██████████| 469/469 [00:12<00:00, 38.20it/s]\n"
          ]
        },
        {
          "output_type": "stream",
          "name": "stdout",
          "text": [
            "Training Loss 0.0002741677739929097 Training Accuracy 98.89\n"
          ]
        },
        {
          "output_type": "stream",
          "name": "stderr",
          "text": [
            "100%|██████████| 79/79 [00:02<00:00, 38.75it/s]\n"
          ]
        },
        {
          "output_type": "stream",
          "name": "stdout",
          "text": [
            "Validation Loss 0.00022511586210457608 Validation Accuracy 99.05\n",
            "EPOCH: 20\n"
          ]
        },
        {
          "output_type": "stream",
          "name": "stderr",
          "text": [
            "100%|██████████| 469/469 [00:12<00:00, 38.48it/s]\n"
          ]
        },
        {
          "output_type": "stream",
          "name": "stdout",
          "text": [
            "Training Loss 0.00027167400201239314 Training Accuracy 98.92\n"
          ]
        },
        {
          "output_type": "stream",
          "name": "stderr",
          "text": [
            "100%|██████████| 79/79 [00:02<00:00, 38.60it/s]"
          ]
        },
        {
          "output_type": "stream",
          "name": "stdout",
          "text": [
            "Validation Loss 0.00020696193991461768 Validation Accuracy 99.18\n"
          ]
        },
        {
          "output_type": "stream",
          "name": "stderr",
          "text": [
            "\n"
          ]
        }
      ]
    },
    {
      "cell_type": "code",
      "source": [
        "\n",
        "## Plot the logs\n",
        "%matplotlib inline\n",
        "import seaborn as sns\n",
        "plt.figure(figsize=(8,8))\n",
        "sns.lineplot(y=train_accuracy,x=range(len(train_accuracy)),label=\"Training Accuracy\")\n",
        "sns.lineplot(y=val_accuracy,x=range(len(val_accuracy)),label=\"Validation Accuracy\")\n",
        "plt.xlabel(\"Epochs\")\n",
        "plt.ylabel(\"Accuracy\")\n",
        "plt.show()"
      ],
      "metadata": {
        "id": "o4BIGQV2MjAV",
        "colab": {
          "base_uri": "https://localhost:8080/",
          "height": 497
        },
        "outputId": "71070241-8345-4647-9b6f-2a1c50a4d6eb"
      },
      "execution_count": 73,
      "outputs": [
        {
          "output_type": "display_data",
          "data": {
            "text/plain": [
              "<Figure size 576x576 with 1 Axes>"
            ],
            "image/png": "[encoded data removed]"
          },
          "metadata": {
            "needs_background": "light"
          }
        }
      ]
    },
    {
      "cell_type": "code",
      "source": [
        "plt.figure(figsize=(8,8))\n",
        "sns.lineplot(y=train_losses,x=range(len(train_losses)),label=\"Training Loss\")\n",
        "sns.lineplot(y=val_losses,x=range(len(val_losses)),label=\"Validation Loss\")\n",
        "plt.xlabel(\"Epochs\")\n",
        "plt.ylabel(\"Loss\")\n",
        "plt.show()"
      ],
      "metadata": {
        "id": "LaDShWD2Znc7",
        "colab": {
          "base_uri": "https://localhost:8080/",
          "height": 497
        },
        "outputId": "48d98e5d-61d7-4aaf-c660-b6375eac00a8"
      },
      "execution_count": 74,
      "outputs": [
        {
          "output_type": "display_data",
          "data": {
            "text/plain": [
              "<Figure size 576x576 with 1 Axes>"
            ],
            "image/png": "[encoded data removed]"
          },
          "metadata": {
            "needs_background": "light"
          }
        }
      ]
    },
    {
      "cell_type": "code",
      "source": [],
      "metadata": {
        "id": "HRaJUPiZ8-nd"
      },
      "execution_count": null,
      "outputs": []
    }
  ]
}